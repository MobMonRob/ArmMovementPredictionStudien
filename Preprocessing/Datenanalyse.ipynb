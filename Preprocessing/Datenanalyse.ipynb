{
 "cells": [
  {
   "cell_type": "markdown",
   "metadata": {},
   "source": [
    "### TODO\n",
    "- [x] Ellenbogenabstand: Nicht harte Quantile, sondern abhängig von Varianz, breite der Verteilung machen. Wenn Verteilung nur über wenige mm verteilt ist, ist sie ok.\n",
    "- [x] Auch Handabstände werden pro Datensatz berechnet, keine harten Quantile, sondern dynamische Bestimmung\n",
    "- [x] Broken-files Gewichtung durch Fehlerhöhe quantifizieren? Größere Abweichungen stärker gewichten, als kleine\n",
    "- [ ] 20020403036 Datensatz komplett kaputt, von Metriken erkannt?\n",
    "- [ ] Koordinatenvergleichmetrik verbessern: \n",
    "\n",
    "Minimaler Distanz von einem Wert in r zu einem in l, falls Daten nicht gleichzeitig starten\n",
    "\n",
    "Versuchen Trajektorien im Raum so zu transformieren, dass sie in Richtung der y-Achse verlaufen?\n",
    "So müssten die y- und z-Koordinaten der beiden Hände/Ellbogen gleich sein\n",
    "-> kann momentan nicht verglichen werden, da nicht in einer Ebene\n",
    "\n",
    "Oder linke Hand auf Rechte spiegeln und dann Verlauf vergleichen?"
   ]
  },
  {
   "cell_type": "markdown",
   "metadata": {},
   "source": [
    "## 0. Raw-Umbenennung\n",
    "Benennt die Dateien in einheitliche Namen um, Ausgangspunkt müssen dazu die \"takeover\"-Namen sein (darf nicht mehrmals ausgeführt werden).\n",
    "Fehlerhafte Datumsangaben werden korrigiert."
   ]
  },
  {
   "cell_type": "code",
   "execution_count": 3,
   "metadata": {},
   "outputs": [],
   "source": [
    "import os, sys, math, pandas as pd, numpy as np, shutil\n",
    "files = os.listdir('../DATA/0_raw')\n",
    "\n",
    "for file in files:\n",
    "    fileNumber = file.split(\"_takeover\",1)[0]\n",
    "    if len(fileNumber) > 12: #dont repeat script\n",
    "        break\n",
    "    \n",
    "    year = fileNumber[0:4]\n",
    "    if year != '2020' and year != '2021':\n",
    "        fileNumber = fileNumber.replace(year,'2020',1)\n",
    "    \n",
    "    if file.find(\"RGraspPhase\") != -1:\n",
    "        side=\"R\"\n",
    "    else:\n",
    "        side=\"L\"\n",
    "        \n",
    "    oldpath = r'../DATA/0_raw/'+file\n",
    "    newpath = r'../DATA/0_raw/'+str(fileNumber)+'_raw_'+side+'.csv'\n",
    "    os.rename(oldpath,newpath)"
   ]
  },
  {
   "cell_type": "markdown",
   "metadata": {},
   "source": [
    "## 1. Interpolation\n",
    "Momentan lineare Interpolation für bis zu 2 NaNs, andere Methoden denkbar. Erstellt neue csv-Dateien im interpolated-Ordner."
   ]
  },
  {
   "cell_type": "code",
   "execution_count": 7,
   "metadata": {},
   "outputs": [
    {
     "data": {
      "text/plain": [
       "array([[<AxesSubplot:title={'center':'Dateilängen'}>]], dtype=object)"
      ]
     },
     "execution_count": 7,
     "metadata": {},
     "output_type": "execute_result"
    },
    {
     "data": {
      "image/png": "[encoded data removed]",
      "text/plain": [
       "<Figure size 432x288 with 1 Axes>"
      ]
     },
     "metadata": {
      "needs_background": "light"
     },
     "output_type": "display_data"
    }
   ],
   "source": [
    "import os, sys, math, pandas as pd, numpy as np, shutil\n",
    "files = os.listdir('../DATA/0_raw')\n",
    "\n",
    "length_of_file = {}\n",
    "\n",
    "for file in files:\n",
    "    df = pd.read_csv('../DATA/0_raw/'+file, sep = ';')      \n",
    "    interpolated_df = df.interpolate(method='linear',limit=2,limit_area='inside') \n",
    "    fileNumber = file.split(\"_raw\",1)[0]\n",
    "    side = file[-5]\n",
    "    filename = '../DATA/1_interpolated/'+str(fileNumber)+'_interpolated_'+side+'.csv'\n",
    "    interpolated_df.to_csv(filename, sep = ';', float_format='%.4f', na_rep='NaN', index=False)\n",
    "    length_of_file.update({filename:len(interpolated_df)})\n",
    "\n",
    "pd.DataFrame({\"Dateilängen\": list(length_of_file.values())}).hist()"
   ]
  },
  {
   "cell_type": "markdown",
   "metadata": {},
   "source": [
    "## 4. Verschiebung zum Ursprung\n",
    "Verschiebung der zugeschnittenen Dateien, sodass die rechte Hand im Ursprung startet. Außerdem Aufteilung in zwei Listen, in `r_files` für die rechte Körperhälfte und `l_files` für links."
   ]
  },
  {
   "cell_type": "code",
   "execution_count": null,
   "metadata": {},
   "outputs": [],
   "source": [
    "r_files = []\n",
    "l_files = []\n",
    "length_of_file = {}\n",
    "\n",
    "for file in os.listdir('../DATA/3_truncated')\n",
    "    if file.find(\"R\") != -1:\n",
    "        df_right = pd.read_csv('../DATA/3_truncated/'+file, sep = ';')              \n",
    "        if df_right.iloc[:,[0,1,2]].isna().sum().sum() == 0 and df_right.isna().sum().sum() < len(df_right)*0.2:     #check erst hier?\n",
    "            fileNumber = file.split(\"_truncated\",1)[0]\n",
    "            pathOfLeftFile = '../DATA/3_truncated/'+str(fileNumber)+'_truncated_L.csv'\n",
    "\n",
    "            relocated_right = pd.DataFrame(df_right.iloc[:,0]-df_right.iloc[0,0])\n",
    "            relocated_right[df_right.columns.values[1]] = df_right.iloc[:,1]-df_right.iloc[0,1]\n",
    "            relocated_right[df_right.columns.values[2]] = df_right.iloc[:,2]-df_right.iloc[0,2]\n",
    "            relocated_right[df_right.columns.values[3]] = df_right.iloc[:,3]-df_right.iloc[0,0]\n",
    "            relocated_right[df_right.columns.values[4]] = df_right.iloc[:,4]-df_right.iloc[0,1]\n",
    "            relocated_right[df_right.columns.values[5]] = df_right.iloc[:,5]-df_right.iloc[0,2]            \n",
    "            \n",
    "            filename = '../DATA/4_relocated/'+str(fileNumber)+'_relocated_R.csv'\n",
    "            relocated_right.to_csv(filename, sep = ';', float_format='%.4f', na_rep='NaN', index=False)\n",
    "            r_files.append(filename)\n",
    "            length_of_file.update({filename:len(relocated_right)})\n",
    "            \n",
    "            if os.path.isfile(pathOfLeftFile):\n",
    "                df_left = pd.read_csv(pathOfLeftFile, sep = ';')    \n",
    "                relocated_left = pd.DataFrame(df_left.iloc[:,0]-df_right.iloc[0,0])\n",
    "                relocated_left[df_left.columns.values[1]] = df_left.iloc[:,1]-df_right.iloc[0,1]\n",
    "                relocated_left[df_left.columns.values[2]] = df_left.iloc[:,2]-df_right.iloc[0,2]\n",
    "                relocated_left[df_left.columns.values[3]] = df_left.iloc[:,3]-df_right.iloc[0,0]\n",
    "                relocated_left[df_left.columns.values[4]] = df_left.iloc[:,4]-df_right.iloc[0,1]\n",
    "                relocated_left[df_left.columns.values[5]] = df_left.iloc[:,5]-df_right.iloc[0,2]  \n",
    "                \n",
    "                filename = '../DATA/4_relocated/'+str(fileNumber)+'_relocated_L.csv'\n",
    "                relocated_left.to_csv(filename, sep = ';', float_format='%.4f', na_rep='NaN', index=False)\n",
    "                l_files.append(filename)\n",
    "                length_of_file.update({filename:len(relocated_left)})\n",
    "\n",
    "numberOfFiles = len(r_files)+len(l_files)\n",
    "print(str(numberOfFiles)+\" moved\")\n",
    "pd.DataFrame({\"Dateilängen\": list(length_of_file.values())}).hist()"
   ]
  },
  {
   "cell_type": "markdown",
   "metadata": {},
   "source": [
    "## NaN-Statistik"
   ]
  },
  {
   "cell_type": "markdown",
   "metadata": {},
   "source": [
    "Zählt die NaN-Werte pro Datei im Ordner data und gibt die Anzahl der Dateien ohne NaN, mit bis zu 10 NaN oder mehr als 10 NaN aus. Die Dateinamen werden jeweils im Dictionary `files_list` in die entsprechende Liste hinzugefügt.   \n",
    "Es werden nur die Handgelenkdaten berücksichtigt."
   ]
  },
  {
   "cell_type": "code",
   "execution_count": 2,
   "metadata": {},
   "outputs": [
    {
     "name": "stdout",
     "output_type": "stream",
     "text": [
      "Files without NaN: 494\n",
      "Files with at least 1 NaN: 106\n",
      "Files with more than 10 NaN: 26\n"
     ]
    }
   ],
   "source": [
    "files_list = {\n",
    "    \"withoutNaN\" : [],\n",
    "    \"atleast1NaN\" : [],\n",
    "    \"morethan10NaN\": [],\n",
    "    \"worthToInterpolate\": []\n",
    "}\n",
    "\n",
    "for file in os.listdir('./data'):\n",
    "    if file.find(\"RGrasp\") != -1:\n",
    "        df = pd.read_csv('./data/'+file, sep = ';')\n",
    "        wjc = df.iloc[:,[0,1,2]]\n",
    "        nans_sum = wjc.isna().sum().sum()\n",
    "\n",
    "        if nans_sum == 0:\n",
    "            files_list[\"withoutNaN\"].append(file)\n",
    "        elif nans_sum >= 1:\n",
    "            files_list[\"atleast1NaN\"].append(file)\n",
    "        if nans_sum > 10:\n",
    "            files_list[\"morethan10NaN\"].append(file)\n",
    "\n",
    "print(\"Files without NaN: \"+str(len(files_list[\"withoutNaN\"])))\n",
    "print(\"Files with at least 1 NaN: \"+str(len(files_list[\"atleast1NaN\"])))\n",
    "print(\"Files with more than 10 NaN: \"+str(len(files_list[\"morethan10NaN\"])))"
   ]
  },
  {
   "cell_type": "markdown",
   "metadata": {},
   "source": [
    "### Zeichnet Histogramm über die Längen der NaN-Folgen in jeder Koordinate"
   ]
  },
  {
   "cell_type": "code",
   "execution_count": 5,
   "metadata": {},
   "outputs": [
    {
     "data": {
      "text/html": [
       "<div>\n",
       "<style scoped>\n",
       "    .dataframe tbody tr th:only-of-type {\n",
       "        vertical-align: middle;\n",
       "    }\n",
       "\n",
       "    .dataframe tbody tr th {\n",
       "        vertical-align: top;\n",
       "    }\n",
       "\n",
       "    .dataframe thead th {\n",
       "        text-align: right;\n",
       "    }\n",
       "</style>\n",
       "<table border=\"1\" class=\"dataframe\">\n",
       "  <thead>\n",
       "    <tr style=\"text-align: right;\">\n",
       "      <th></th>\n",
       "      <th>x</th>\n",
       "      <th>y</th>\n",
       "      <th>z</th>\n",
       "    </tr>\n",
       "  </thead>\n",
       "  <tbody>\n",
       "    <tr>\n",
       "      <th>count</th>\n",
       "      <td>127.000000</td>\n",
       "      <td>127.000000</td>\n",
       "      <td>127.000000</td>\n",
       "    </tr>\n",
       "    <tr>\n",
       "      <th>mean</th>\n",
       "      <td>2.960630</td>\n",
       "      <td>2.960630</td>\n",
       "      <td>2.960630</td>\n",
       "    </tr>\n",
       "    <tr>\n",
       "      <th>std</th>\n",
       "      <td>4.588463</td>\n",
       "      <td>4.588463</td>\n",
       "      <td>4.588463</td>\n",
       "    </tr>\n",
       "    <tr>\n",
       "      <th>min</th>\n",
       "      <td>1.000000</td>\n",
       "      <td>1.000000</td>\n",
       "      <td>1.000000</td>\n",
       "    </tr>\n",
       "    <tr>\n",
       "      <th>25%</th>\n",
       "      <td>1.000000</td>\n",
       "      <td>1.000000</td>\n",
       "      <td>1.000000</td>\n",
       "    </tr>\n",
       "    <tr>\n",
       "      <th>50%</th>\n",
       "      <td>2.000000</td>\n",
       "      <td>2.000000</td>\n",
       "      <td>2.000000</td>\n",
       "    </tr>\n",
       "    <tr>\n",
       "      <th>75%</th>\n",
       "      <td>3.000000</td>\n",
       "      <td>3.000000</td>\n",
       "      <td>3.000000</td>\n",
       "    </tr>\n",
       "    <tr>\n",
       "      <th>max</th>\n",
       "      <td>34.000000</td>\n",
       "      <td>34.000000</td>\n",
       "      <td>34.000000</td>\n",
       "    </tr>\n",
       "  </tbody>\n",
       "</table>\n",
       "</div>"
      ],
      "text/plain": [
       "                x           y           z\n",
       "count  127.000000  127.000000  127.000000\n",
       "mean     2.960630    2.960630    2.960630\n",
       "std      4.588463    4.588463    4.588463\n",
       "min      1.000000    1.000000    1.000000\n",
       "25%      1.000000    1.000000    1.000000\n",
       "50%      2.000000    2.000000    2.000000\n",
       "75%      3.000000    3.000000    3.000000\n",
       "max     34.000000   34.000000   34.000000"
      ]
     },
     "execution_count": 5,
     "metadata": {},
     "output_type": "execute_result"
    },
    {
     "data": {
      "image/png": "[encoded data removed]",
      "text/plain": [
       "<Figure size 1440x720 with 4 Axes>"
      ]
     },
     "metadata": {
      "needs_background": "light"
     },
     "output_type": "display_data"
    }
   ],
   "source": [
    "NaN_occurences = {\n",
    "    \"x\":[],\n",
    "    \"y\":[],\n",
    "    \"z\":[]\n",
    "}\n",
    "\n",
    "counter = {\n",
    "    \"x\":0,\n",
    "    \"y\":0,\n",
    "    \"z\":0\n",
    "}\n",
    "\n",
    "for file in files_list[\"atleast1NaN\"]:\n",
    "    df = pd.read_csv('./data/'+file, sep = ';')  \n",
    "    wjc = df.iloc[:,[0,1,2]]\n",
    "    \n",
    "    for index,row in wjc.iterrows():\n",
    "        if math.isnan(row[0]):\n",
    "            counter[\"x\"]+=1\n",
    "        else:\n",
    "            if counter[\"x\"]!=0:\n",
    "                NaN_occurences[\"x\"].append(counter[\"x\"])\n",
    "                counter[\"x\"]=0\n",
    "                \n",
    "        if math.isnan(row[1]):\n",
    "            counter[\"y\"]+=1\n",
    "        else:\n",
    "            if counter[\"y\"]!=0:\n",
    "                NaN_occurences[\"y\"].append(counter[\"y\"])\n",
    "                counter[\"y\"]=0\n",
    "        \n",
    "        if math.isnan(row[2]):\n",
    "            counter[\"z\"]+=1\n",
    "        else:\n",
    "            if counter[\"z\"]!=0:\n",
    "                NaN_occurences[\"z\"].append(counter[\"z\"])\n",
    "                counter[\"z\"]=0\n",
    "\n",
    "    counter[\"x\"] = 0\n",
    "    counter[\"y\"] = 0\n",
    "    counter[\"z\"] = 0\n",
    "\n",
    "nans_df = pd.DataFrame(NaN_occurences)\n",
    "\n",
    "nans_df.hist(figsize=(20,10), bins=80)\n",
    "nans_df.describe()"
   ]
  },
  {
   "cell_type": "markdown",
   "metadata": {},
   "source": [
    "### Fügt nach Festlegung eines Schwellwertes in \"worthToInterpolate\"-Liste alle Dateinamen hinzu, die maximal soviele direkt aufeinanderfolgende NaNs haben"
   ]
  },
  {
   "cell_type": "code",
   "execution_count": null,
   "metadata": {},
   "outputs": [],
   "source": [
    "counter = {\n",
    "    \"x\":0,\n",
    "    \"y\":0,\n",
    "    \"z\":0\n",
    "}\n",
    "threshold = 2\n",
    "files_list[\"worthToInterpolate\"].clear()\n",
    "\n",
    "for file in files_list[\"atleast1NaN\"]:\n",
    "    df = pd.read_csv('./data/'+file, sep = ';')  \n",
    "    wjc = df.iloc[:,[0,1,2]]\n",
    "    \n",
    "    row = 0\n",
    "    while counter[\"x\"] <= threshold and counter[\"y\"] <= threshold and counter[\"z\"] <= threshold:\n",
    "        if math.isnan(wjc.iloc[row,0]):\n",
    "            counter[\"x\"]+=1\n",
    "        if math.isnan(wjc.iloc[row,1]):\n",
    "            counter[\"y\"]+=1\n",
    "        if math.isnan(wjc.iloc[row,2]):\n",
    "            counter[\"z\"]+=1\n",
    "        if row == (len(wjc)-1):\n",
    "            files_list[\"worthToInterpolate\"].append(file)\n",
    "            break\n",
    "        else:\n",
    "            row+=1\n",
    "    counter[\"x\"] = 0\n",
    "    counter[\"y\"] = 0\n",
    "    counter[\"z\"] = 0\n",
    "\n",
    "\n",
    "print(\"Files with max. \"+str(threshold)+\" NaNs in a row: \"+str(len(files_list[\"worthToInterpolate\"])))\n",
    "\n",
    "print(files_list[\"worthToInterpolate\"])"
   ]
  },
  {
   "cell_type": "markdown",
   "metadata": {},
   "source": [
    "## Startpunkte analysieren"
   ]
  },
  {
   "cell_type": "markdown",
   "metadata": {},
   "source": [
    "Visualisiert die verschiedenen Startkoordinaten für x, y und z in drei Histogrammen sowie berechnet statistische Größen (für die rechte Hand).\n",
    "\n",
    "Ausreißer: 20200423006_takeover_RGraspPhase.csv, 20200305163_takeover_RGraspPhase.csv (z)\n",
    "\n",
    "Mehrere Hügel durch mehrere Messdurchläufe?"
   ]
  },
  {
   "cell_type": "code",
   "execution_count": null,
   "metadata": {},
   "outputs": [],
   "source": [
    "starts = {\n",
    "    \"x\": [],\n",
    "    \"y\": [],\n",
    "    \"z\": []\n",
    "}\n",
    "\n",
    "for file in files_list[\"withoutNaN\"]:\n",
    "    df = pd.read_csv('./data/'+file, sep = ';')\n",
    "    starts[\"x\"].append(df.iloc[0,0])\n",
    "    starts[\"y\"].append(df.iloc[0,1])\n",
    "    starts[\"z\"].append(df.iloc[0,2])\n",
    "    \n",
    "ser = pd.DataFrame(starts)\n",
    "ser.hist(figsize=(20, 10), bins=50)\n",
    "\n",
    "ser.describe()"
   ]
  },
  {
   "cell_type": "markdown",
   "metadata": {},
   "source": [
    "## Abstand Ellenbogen-Handgelenk\n",
    "Berechnet für jeden Zeitpunkt den Abstand von Handgelenk und Ellenbogen und ermittelt die Mittelwerte dieser Abstände pro Datensatz. Da dieser Mittelwert von den anatomischen Gegebenheiten der Messperson abhängt, wird die Verteilung der Mittelwerte pro Messung in einem Histogramm visualisiert. \n",
    "\n",
    "\n",
    "\n",
    "In die Liste \"elbow\" werden die Dateien geschrieben, deren durchschnittlicher Ellenbogen-Handgelenk-Abstand größer oder kleiner eines Schwellwertes ist. Als Schwellwert wird nicht standardmäßig das 95 und 5 Quantil ver, sondern dynamisch von Standarbweichung des Datensatzes abhängend bestimmen. Grenzwert entspricht 2,5 % der Standarabweichung.\n",
    "So werden nicht immer 10 % der Daten aussortiert, sondern je breiter die Verteilung, desto mehr.\n",
    "\n",
    "\n",
    "als bei 95% oder kleiner als bei 5% der Werten der jeweiligen Messung ist. Allerdings lässt dies nicht zwangsläufig den Schluss auf einen Sprung in den Handgelenksdaten zu, es können auch die Ellenbogendaten gestört sein.\n",
    "Das letzte ausgegebenen Histogramm zeigt die Werte aller Messungen in einem Histogramm.\n",
    "\n",
    "z.B. Ellenbogen mit Sprung: 20200305052_takeover_RGraspPhase.csv"
   ]
  },
  {
   "cell_type": "code",
   "execution_count": 148,
   "metadata": {},
   "outputs": [
    {
     "name": "stdout",
     "output_type": "stream",
     "text": [
      "2002040 upper: 246.662709127264 lower: 243.8758650761156\n",
      "4 files\n",
      "2020030 upper: 244.01714135948174 lower: 241.48522589247747\n",
      "42 files\n",
      "2020042 upper: 222.36976731622494 lower: 215.89622400482324\n",
      "30 files\n",
      "Threshold old: 244.73835992948827\n",
      "New: 76\n",
      "Old: 27\n"
     ]
    },
    {
     "data": {
      "image/png": "[encoded data removed]",
      "text/plain": [
       "<Figure size 720x360 with 1 Axes>"
      ]
     },
     "metadata": {
      "needs_background": "light"
     },
     "output_type": "display_data"
    },
    {
     "data": {
      "image/png": "[encoded data removed]",
      "text/plain": [
       "<Figure size 720x360 with 1 Axes>"
      ]
     },
     "metadata": {
      "needs_background": "light"
     },
     "output_type": "display_data"
    },
    {
     "data": {
      "image/png": "[encoded data removed]",
      "text/plain": [
       "<Figure size 720x360 with 1 Axes>"
      ]
     },
     "metadata": {
      "needs_background": "light"
     },
     "output_type": "display_data"
    },
    {
     "data": {
      "image/png": "[encoded data removed]",
      "text/plain": [
       "<Figure size 720x360 with 1 Axes>"
      ]
     },
     "metadata": {
      "needs_background": "light"
     },
     "output_type": "display_data"
    }
   ],
   "source": [
    "outliers = {\n",
    "    \"elbow\" : {},\n",
    "    \"hand\":{},\n",
    "    \"otherHand_x\" : [],\n",
    "    \"otherHand_y\" : [],\n",
    "    \"otherHand_z\": {},\n",
    "}\n",
    "\n",
    "distances =  {}\n",
    "distances_old = []\n",
    "thresholds = {}\n",
    "\n",
    "FACTOR = 0.025\n",
    "\n",
    "prevFileNumber = ''\n",
    "for file in r_files:\n",
    "    fileNumber = file[15:22]\n",
    "    df = pd.read_csv(file, sep = ';')\n",
    "    dist = []\n",
    "\n",
    "    for index, row in df.iloc[:,[0,1,2,3,4,5]].iterrows():       \n",
    "        dist.append(math.sqrt((row[0]-row[3])**2 + (row[1]-row[4])**2 + (row[2]-row[5])**2))\n",
    "    mean = pd.Series(dist).mean()\n",
    "    \n",
    "    if fileNumber != prevFileNumber:\n",
    "        distances.update({fileNumber:{}})\n",
    "    distances[fileNumber].update({file:mean})\n",
    "    prevFileNumber = fileNumber\n",
    "    distances_old.append(mean)\n",
    "    \n",
    "for key in distances.keys():\n",
    "    df_distances = pd.DataFrame({key: list(distances[key].values())})\n",
    "    df_distances.hist(figsize=(10, 5), bins=80)\n",
    "    threshold_value = df_distances.std()[0] * FACTOR\n",
    "    upper_bound = df_distances.quantile(q=(1-threshold_value))[0]\n",
    "    lower_bound = df_distances.quantile(q=threshold_value)[0]\n",
    "    thresholds.update({key:[lower_bound, upper_bound]})\n",
    "    print(key+\" upper: \"+str(upper_bound)+\" lower: \"+str(lower_bound))\n",
    "    \n",
    "    counter=0\n",
    "    for val in df_distances.lt(lower_bound).iloc[:,0]:\n",
    "        if val:\n",
    "            counter+=1\n",
    "    for val in df_distances.gt(upper_bound).iloc[:,0]:\n",
    "        if val:\n",
    "            counter+=1\n",
    "    print(str(counter) + \" files\")\n",
    "pd.DataFrame({\"Übersicht:\":distances_old}).hist(figsize=(10,5), bins = 80)\n",
    "threshold_old = pd.DataFrame(distances_old).quantile(q=0.95)[0]\n",
    "print(\"Threshold old: \"+str(threshold_old))\n",
    "\n",
    "outliers_old = []\n",
    "idx = 0\n",
    "for file in r_files:\n",
    "    fileNumber = file[15:22]\n",
    "    if distances[fileNumber][file] > thresholds[fileNumber][1] or distances[fileNumber][file] < thresholds[fileNumber][0]:\n",
    "        meanOfAllValues = pd.DataFrame(distances[key].values()).mean()[0]\n",
    "        normalized_value = abs(meanOfAllValues - distances[fileNumber][file])/meanOfAllValues\n",
    "        outliers[\"elbow\"].update({file:distances[fileNumber][file]})\n",
    "    if distances_old[idx] > threshold_old:\n",
    "        outliers_old.append(file)\n",
    "    idx+=1\n",
    "    \n",
    "normalized_values = list(outliers[\"elbow\"].values())\n",
    "max_normalized_value = max(normalized_values)\n",
    "min_normalized_value = min(normalized_values)\n",
    "for fileNumber in list(outliers[\"elbow\"].keys()):\n",
    "    outliers[\"elbow\"][fileNumber] = (outliers[\"elbow\"][fileNumber]-min_normalized_value)/(max_normalized_value-min_normalized_value)\n",
    "    \n",
    "print(\"New: \"+str(len(outliers[\"elbow\"])))\n",
    "print(\"Old: \"+str(len(outliers_old)))"
   ]
  },
  {
   "cell_type": "markdown",
   "metadata": {},
   "source": [
    "## Handgelenkvergleich\n",
    "Berechnet zunächst pro Messdurchlauf die durchschnittlichen Handabstände, diese variieren naturgemäß, da während der Bewegung die Hände sich voneinander entfernen. Dennoch lassen sich über die Mitterlwerte Ausreißer identifzieren. Die Grenze für Ausreißer wird dynamisch pro Messdurchlauf definiert, sie hängt von der Standardabweichung des Durchlaufs ab.\n",
    "\n",
    "Außerdem wird die Differenz der z-Koordinaten für die Trajektorien von linker und rechter Hand gebildet, diese sollte weitesgehend 0 sein, sofern sich die Hände gleichzeitig hoch/runter bewegen. Größere Abweichungen zeigen Ausreißer an. Auch hier dynamische Schwellwertdefinition\n",
    "\n",
    "Generell könnten auch noch x,y Koordinaten verglichen werden, liegen aber in Ursprungsdaten noch nicht in einer Ebene. Transformation notwendig.\n",
    "\n",
    "=> Sprünge können aber auch in für uns nicht relevanten linken Hand vorkommen.\n",
    "\n",
    "\n",
    "Problem: Datensätze haben unterschiedliche Länge, sollten davor noch zugeschnitten werden"
   ]
  },
  {
   "cell_type": "code",
   "execution_count": 150,
   "metadata": {},
   "outputs": [
    {
     "name": "stdout",
     "output_type": "stream",
     "text": [
      "2002040 hand upper: 768.264809919423, hand lower: 532.8012817858805, z upper: 308.7160506815762\n",
      "16 hand files, 15 z files\n",
      "2020030 hand upper: 560.5831266456439, hand lower: 477.0623514310598, z upper: 44.437735032649265\n",
      "10 hand files, 7 z files\n",
      "2020042 hand upper: 446.97011907776294, hand lower: 369.2464087249532, z upper: 74.02034644565566\n",
      "14 hand files, 9 z files\n",
      "new hand: 40, new z: 31\n"
     ]
    },
    {
     "data": {
      "image/png": "[encoded data removed]",
      "text/plain": [
       "<Figure size 1440x720 with 4 Axes>"
      ]
     },
     "metadata": {
      "needs_background": "light"
     },
     "output_type": "display_data"
    },
    {
     "data": {
      "image/png": "[encoded data removed]",
      "text/plain": [
       "<Figure size 1440x720 with 4 Axes>"
      ]
     },
     "metadata": {
      "needs_background": "light"
     },
     "output_type": "display_data"
    },
    {
     "data": {
      "image/png": "[encoded data removed]",
      "text/plain": [
       "<Figure size 1440x720 with 4 Axes>"
      ]
     },
     "metadata": {
      "needs_background": "light"
     },
     "output_type": "display_data"
    }
   ],
   "source": [
    "differences = {\n",
    "    \"x\":{},\n",
    "    \"y\":{},\n",
    "    \"z\":{},\n",
    "    \"hands\":{}\n",
    "}\n",
    "threshold = {\n",
    "    \"x\" : 0,\n",
    "    \"y\" : 0,\n",
    "    \"z\" : {},\n",
    "    \"hands\" : {}\n",
    "}\n",
    "outliers[\"otherHand_x\"].clear()\n",
    "outliers[\"otherHand_z\"].clear()\n",
    "outliers[\"hand\"].clear()\n",
    "outliers[\"otherHand_y\"].clear()\n",
    "r_with_l = []\n",
    "\n",
    "FACTOR = 0.0011\n",
    "FACTOR_Z = 0.0018\n",
    "\n",
    "prevFileNumber = ''\n",
    "for file in r_files:\n",
    "    fileNumber = file[15:22]\n",
    "    if file.find(\"Right\") != -1:\n",
    "        startOfFile = file.split(\"Right\",1)\n",
    "        pathOfOtherFile = startOfFile[0]+'Left_preprocessed.csv'\n",
    "    else:\n",
    "        startOfFile = file.split(\"Left\",1)\n",
    "        pathOfOtherFile = startOfFile[0]+'Right_preprocessed.csv'\n",
    "    if os.path.isfile(pathOfOtherFile):\n",
    "        r_with_l.append(file)\n",
    "        side1 = pd.read_csv(file, sep = ';').iloc[:,[0,1,2]]\n",
    "        side2 = pd.read_csv(pathOfOtherFile, sep = ';').iloc[:,[0,1,2]]\n",
    "                \n",
    "        x_diff = []\n",
    "        y_diff = []\n",
    "        z_diff = []\n",
    "        hands = []\n",
    "        idx = 0\n",
    "        while idx<(len(side1)-1) and idx<(len(side2)-1):\n",
    "            y_diff.append(abs(side1.iloc[idx,1]-side2.iloc[idx,1]))\n",
    "            z_diff.append(abs(side1.iloc[idx,2]-side2.iloc[idx,2]))\n",
    "            x_diff.append(abs(side1.iloc[idx,0]-side2.iloc[idx,0]))\n",
    "            hands.append(math.sqrt((side1.iloc[idx,0]-side2.iloc[idx,0])**2 + (side1.iloc[idx,1]-side2.iloc[idx,1])**2 + (side1.iloc[idx,2]-side2.iloc[idx,2])**2))\n",
    "            idx+=1\n",
    "        if fileNumber != prevFileNumber:\n",
    "            differences[\"hands\"].update({fileNumber:{}})\n",
    "            differences[\"x\"].update({fileNumber:{}})\n",
    "            differences[\"y\"].update({fileNumber:{}})\n",
    "            differences[\"z\"].update({fileNumber:{}})\n",
    "        differences[\"hands\"][fileNumber].update({file:pd.Series(hands).mean()})\n",
    "        differences[\"x\"][fileNumber].update({file:pd.Series(x_diff).mean()})\n",
    "        differences[\"y\"][fileNumber].update({file:pd.Series(y_diff).mean()})\n",
    "        differences[\"z\"][fileNumber].update({file:pd.Series(z_diff).mean()})\n",
    "        prevFileNumber = fileNumber\n",
    "\n",
    "for fileNumber in differences[\"hands\"].keys():\n",
    "    df= pd.DataFrame({\n",
    "        \"hand distance\" : list(differences[\"hands\"][fileNumber].values()),\n",
    "        \"x\" : list(differences[\"x\"][fileNumber].values()),\n",
    "        \"y\" : list(differences[\"y\"][fileNumber].values()),\n",
    "        \"z\" : list(differences[\"z\"][fileNumber].values())\n",
    "    })\n",
    "    df.hist(figsize=(20, 10), bins=50)    \n",
    "    threshold_value = df.loc[:,\"hand distance\"].std() * FACTOR\n",
    "    upper_bound = df.loc[:,\"hand distance\"].quantile(q=(1-threshold_value))\n",
    "    lower_bound = df.loc[:,\"hand distance\"].quantile(q=threshold_value)\n",
    "    threshold[\"hands\"].update({fileNumber:[lower_bound, upper_bound]})\n",
    "    threshold_value = df.loc[:,\"z\"].std() * FACTOR_Z\n",
    "    upper_bound_z = df.loc[:,\"z\"].quantile(q=(1-threshold_value))\n",
    "    threshold[\"z\"].update({fileNumber:upper_bound_z})\n",
    "    print(fileNumber+\" hand upper: \"+str(upper_bound)+\", hand lower: \"+str(lower_bound)+\", z upper: \"+str(upper_bound_z))\n",
    "\n",
    "    counter=0\n",
    "    for val in df.loc[:,\"hand distance\"].lt(lower_bound):\n",
    "        if val:\n",
    "            counter+=1\n",
    "    for val in df.loc[:,\"hand distance\"].gt(upper_bound):\n",
    "        if val:\n",
    "            counter+=1\n",
    "    counter_z=0\n",
    "    for val in df.loc[:,\"z\"].gt(upper_bound_z):\n",
    "        if val:\n",
    "            counter_z+=1\n",
    "    print(str(counter) + \" hand files, \"+str(counter_z)+\" z files\")\n",
    "\n",
    "for file in r_with_l:\n",
    "    fileNumber = file[15:22]\n",
    "    if differences[\"hands\"][fileNumber][file] > threshold[\"hands\"][fileNumber][1] or differences[\"hands\"][fileNumber][file] < threshold[\"hands\"][fileNumber][0]:\n",
    "        meanOfAllValues = pd.DataFrame(differences[\"hands\"][fileNumber].values()).mean()[0]\n",
    "        normalized_value = abs(meanOfAllValues - differences[\"hands\"][fileNumber][file])/meanOfAllValues\n",
    "        outliers[\"hand\"].update({file:normalized_value})\n",
    "    if differences[\"z\"][fileNumber][file] > threshold[\"z\"][fileNumber]:\n",
    "        meanOfAllValues = pd.DataFrame(differences[\"z\"][fileNumber].values()).mean()[0]\n",
    "        normalized_value = abs(meanOfAllValues - differences[\"z\"][fileNumber][file])/meanOfAllValues\n",
    "        outliers[\"otherHand_z\"].update({file:normalized_value})\n",
    "\n",
    "normalized_values = list(outliers[\"hand\"].values())\n",
    "max_normalized_value = max(normalized_values)\n",
    "min_normalized_value = min(normalized_values)\n",
    "for fileNumber in list(outliers[\"hand\"].keys()):\n",
    "    outliers[\"hand\"][fileNumber] = (outliers[\"hand\"][fileNumber]-min_normalized_value)/(max_normalized_value-min_normalized_value)\n",
    "\n",
    "normalized_values = list(outliers[\"otherHand_z\"].values())\n",
    "max_normalized_value = max(normalized_values)\n",
    "min_normalized_value = min(normalized_values)\n",
    "for fileNumber in list(outliers[\"otherHand_z\"].keys()):\n",
    "    outliers[\"otherHand_z\"][fileNumber] = (outliers[\"otherHand_z\"][fileNumber]-min_normalized_value)/(max_normalized_value-min_normalized_value)\n",
    "        \n",
    "print(\"new hand: \"+str(len(outliers[\"hand\"]))+\", new z: \"+str(len(outliers[\"otherHand_z\"])))"
   ]
  },
  {
   "cell_type": "markdown",
   "metadata": {},
   "source": [
    "## Geschwindigkeitsanalyse"
   ]
  },
  {
   "cell_type": "code",
   "execution_count": 27,
   "metadata": {},
   "outputs": [
    {
     "data": {
      "text/plain": [
       "array([[<matplotlib.axes._subplots.AxesSubplot object at 0x00000175692E8130>,\n",
       "        <matplotlib.axes._subplots.AxesSubplot object at 0x0000017569288D30>],\n",
       "       [<matplotlib.axes._subplots.AxesSubplot object at 0x0000017569486700>,\n",
       "        <matplotlib.axes._subplots.AxesSubplot object at 0x0000017569B33190>]],\n",
       "      dtype=object)"
      ]
     },
     "execution_count": 27,
     "metadata": {},
     "output_type": "execute_result"
    },
    {
     "data": {
      "image/png": "[encoded data removed]",
      "text/plain": [
       "<Figure size 1440x720 with 4 Axes>"
      ]
     },
     "metadata": {
      "needs_background": "light"
     },
     "output_type": "display_data"
    }
   ],
   "source": [
    "velo_stats = {\n",
    "    \"max_hand\":[],\n",
    "    \"mean_hand\":[],\n",
    "    \"max_elbow\":[],\n",
    "    \"mean_elbow\":[]\n",
    "}\n",
    "\n",
    "\n",
    "for file in r_files:\n",
    "    df = pd.read_csv(file, sep = ';')\n",
    "    v_df = np.gradient(df, axis=0)\n",
    "    velos_hand = np.sqrt(np.square(v_df[:,0])+np.square(v_df[:,1])+np.square(v_df[:,2]))\n",
    "    velos_elbow = np.sqrt(np.square(v_df[:,3])+np.square(v_df[:,4])+np.square(v_df[:,5]))\n",
    "    velo_stats[\"max_hand\"].append(np.max(velos_hand)*1.2)\n",
    "    velo_stats[\"mean_hand\"].append(np.mean(velos_hand)*1.2)\n",
    "    velo_stats[\"max_elbow\"].append(np.max(velos_elbow)*1.2)\n",
    "    velo_stats[\"mean_elbow\"].append(np.mean(velos_elbow)*1.2)\n",
    "\n",
    "pd.DataFrame(velo_stats).hist(figsize=(20, 10), bins=70)"
   ]
  },
  {
   "cell_type": "markdown",
   "metadata": {},
   "source": [
    "## Schnittmenge\n",
    "Welche Daten aussortieren? Vereinigung aller Ausreißer? Wenn Datei bei mind. zwei Ausreißern dabei ist? Dabei sind Ausreißer bei Hand- und Ellbogenabständen stärker zu gewichten. Din Ellbogenabstandausreißer und Auffälligkeiten im Vergleich zur anderen Hand lassen auf eine Störung der Handdaten schließen. \n",
    "Handabstände auch mit 3 gewichten??\n",
    "\n",
    "Zu jedem Art Ausreißer werden zudem noch die normalized_values erfasst, die die Stärke des Ausreißer quantifizieren sollen. Sie stellen das Verhältnis des Abstands zum Mittelwert des Messdurchlaufs zum Mitelwert selbst dar und werden auf das Intervall 0-1 normiert.\n",
    "\n",
    "20020403033_takeover_RGraspPhase komplett kaputt  -> aber rechts ok\n",
    "20020403042_takeover_RGraspPhase rechts evtl. ok"
   ]
  },
  {
   "cell_type": "code",
   "execution_count": 14,
   "metadata": {},
   "outputs": [
    {
     "ename": "NameError",
     "evalue": "name 'outliers' is not defined",
     "output_type": "error",
     "traceback": [
      "\u001b[1;31m---------------------------------------------------------------------------\u001b[0m",
      "\u001b[1;31mNameError\u001b[0m                                 Traceback (most recent call last)",
      "\u001b[1;32m<ipython-input-14-90be298ae646>\u001b[0m in \u001b[0;36m<module>\u001b[1;34m\u001b[0m\n\u001b[1;32m----> 1\u001b[1;33m \u001b[0mintersec\u001b[0m \u001b[1;33m=\u001b[0m \u001b[1;33m[\u001b[0m\u001b[0mvalue\u001b[0m \u001b[1;32mfor\u001b[0m \u001b[0mvalue\u001b[0m \u001b[1;32min\u001b[0m \u001b[0mlist\u001b[0m\u001b[1;33m(\u001b[0m\u001b[0moutliers\u001b[0m\u001b[1;33m[\u001b[0m\u001b[1;34m\"otherHand_z\"\u001b[0m\u001b[1;33m]\u001b[0m\u001b[1;33m.\u001b[0m\u001b[0mkeys\u001b[0m\u001b[1;33m(\u001b[0m\u001b[1;33m)\u001b[0m\u001b[1;33m)\u001b[0m \u001b[1;32mif\u001b[0m \u001b[0mvalue\u001b[0m \u001b[1;32min\u001b[0m \u001b[0mlist\u001b[0m\u001b[1;33m(\u001b[0m\u001b[0moutliers\u001b[0m\u001b[1;33m[\u001b[0m\u001b[1;34m\"hand\"\u001b[0m\u001b[1;33m]\u001b[0m\u001b[1;33m.\u001b[0m\u001b[0mkeys\u001b[0m\u001b[1;33m(\u001b[0m\u001b[1;33m)\u001b[0m\u001b[1;33m)\u001b[0m \u001b[1;32mif\u001b[0m \u001b[0mvalue\u001b[0m \u001b[1;32min\u001b[0m \u001b[0mlist\u001b[0m\u001b[1;33m(\u001b[0m\u001b[0moutliers\u001b[0m\u001b[1;33m[\u001b[0m\u001b[1;34m\"elbow\"\u001b[0m\u001b[1;33m]\u001b[0m\u001b[1;33m.\u001b[0m\u001b[0mkeys\u001b[0m\u001b[1;33m(\u001b[0m\u001b[1;33m)\u001b[0m\u001b[1;33m)\u001b[0m \u001b[1;33m]\u001b[0m\u001b[1;33m\u001b[0m\u001b[1;33m\u001b[0m\u001b[0m\n\u001b[0m\u001b[0;32m      2\u001b[0m \u001b[0munion\u001b[0m \u001b[1;33m=\u001b[0m \u001b[0mlist\u001b[0m\u001b[1;33m(\u001b[0m\u001b[0mset\u001b[0m\u001b[1;33m(\u001b[0m\u001b[1;33m)\u001b[0m\u001b[1;33m.\u001b[0m\u001b[0munion\u001b[0m\u001b[1;33m(\u001b[0m\u001b[0mlist\u001b[0m\u001b[1;33m(\u001b[0m\u001b[0moutliers\u001b[0m\u001b[1;33m[\u001b[0m\u001b[1;34m\"otherHand_z\"\u001b[0m\u001b[1;33m]\u001b[0m\u001b[1;33m.\u001b[0m\u001b[0mkeys\u001b[0m\u001b[1;33m(\u001b[0m\u001b[1;33m)\u001b[0m\u001b[1;33m)\u001b[0m\u001b[1;33m,\u001b[0m\u001b[0mlist\u001b[0m\u001b[1;33m(\u001b[0m\u001b[0moutliers\u001b[0m\u001b[1;33m[\u001b[0m\u001b[1;34m\"hand\"\u001b[0m\u001b[1;33m]\u001b[0m\u001b[1;33m.\u001b[0m\u001b[0mkeys\u001b[0m\u001b[1;33m(\u001b[0m\u001b[1;33m)\u001b[0m\u001b[1;33m)\u001b[0m\u001b[1;33m,\u001b[0m\u001b[0mlist\u001b[0m\u001b[1;33m(\u001b[0m\u001b[0moutliers\u001b[0m\u001b[1;33m[\u001b[0m\u001b[1;34m\"elbow\"\u001b[0m\u001b[1;33m]\u001b[0m\u001b[1;33m.\u001b[0m\u001b[0mkeys\u001b[0m\u001b[1;33m(\u001b[0m\u001b[1;33m)\u001b[0m\u001b[1;33m)\u001b[0m\u001b[1;33m)\u001b[0m\u001b[1;33m)\u001b[0m\u001b[1;33m\u001b[0m\u001b[1;33m\u001b[0m\u001b[0m\n\u001b[0;32m      3\u001b[0m \u001b[1;33m\u001b[0m\u001b[0m\n\u001b[0;32m      4\u001b[0m \u001b[1;31m#print(len(intersec))\u001b[0m\u001b[1;33m\u001b[0m\u001b[1;33m\u001b[0m\u001b[1;33m\u001b[0m\u001b[0m\n\u001b[0;32m      5\u001b[0m \u001b[1;31m#print(len(union))\u001b[0m\u001b[1;33m\u001b[0m\u001b[1;33m\u001b[0m\u001b[1;33m\u001b[0m\u001b[0m\n",
      "\u001b[1;31mNameError\u001b[0m: name 'outliers' is not defined"
     ]
    }
   ],
   "source": [
    "intersec = [value for value in list(outliers[\"otherHand_z\"].keys()) if value in list(outliers[\"hand\"].keys()) if value in list(outliers[\"elbow\"].keys()) ]\n",
    "union = list(set().union(list(outliers[\"otherHand_z\"].keys()),list(outliers[\"hand\"].keys()),list(outliers[\"elbow\"].keys())))\n",
    "\n",
    "#print(len(intersec))\n",
    "#print(len(union))\n",
    "\n",
    "broken_files = []\n",
    "pd.DataFrame({\"z-Werte\":list(outliers[\"otherHand_z\"].values())}).hist(figsize=(10,5),bins=40)\n",
    "pd.DataFrame({\"Handabstände\":list(outliers[\"hand\"].values())}).hist(figsize=(10,5),bins=40)\n",
    "pd.DataFrame({\"Ellenbogenabstände\":list(outliers[\"elbow\"].values())}).hist(figsize=(10,5),bins=40)\n",
    "\n",
    "counters = []\n",
    "\n",
    "for file in r_files:\n",
    "    counter = 0\n",
    "    if file in list(outliers[\"otherHand_z\"].keys()):\n",
    "        counter+=1+outliers[\"otherHand_z\"][file]\n",
    "    if file in list(outliers[\"hand\"].keys()):\n",
    "        counter+=4*(1+outliers[\"hand\"][file])\n",
    "    if file in list(outliers[\"elbow\"].keys()):\n",
    "        counter+=3*(1+outliers[\"elbow\"][file])\n",
    "    if counter != 0:\n",
    "        counters.append(counter)\n",
    "    if counter > 4:\n",
    "        broken_files.append(file)\n",
    "\n",
    "df = pd.DataFrame({\"Counter\":counters})\n",
    "df.hist(figsize=(10,5),bins=40)\n",
    "print(df.mean()[0])\n",
    "\n",
    "print(\"Broken: \"+str(len(broken_files)))\n",
    "\n",
    "for file in os.listdir('../DATA/4_relocated'):\n",
    "    if file not in broken_files:\n",
    "        if file.find(\"R\") != -1:\n",
    "            side=\"R\"\n",
    "        else:\n",
    "            side=\"L\"\n",
    "        fileNumber = file.split(\"_relocated\",1)[0]\n",
    "        shutil.copyfile('../DATA/4_relocated/'+file,'../DATA/5_filtered/'+str(fileNumber)+'_filtered_'+side+'.csv')"
   ]
  },
  {
   "cell_type": "code",
   "execution_count": 16,
   "metadata": {},
   "outputs": [],
   "source": []
  }
 ],
 "metadata": {
  "kernelspec": {
   "display_name": "Python 3",
   "language": "python",
   "name": "python3"
  },
  "language_info": {
   "codemirror_mode": {
    "name": "ipython",
    "version": 3
   },
   "file_extension": ".py",
   "mimetype": "text/x-python",
   "name": "python",
   "nbconvert_exporter": "python",
   "pygments_lexer": "ipython3",
   "version": "3.7.8"
  }
 },
 "nbformat": 4,
 "nbformat_minor": 4
}
