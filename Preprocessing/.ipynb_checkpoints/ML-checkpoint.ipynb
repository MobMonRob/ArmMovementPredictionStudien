{
 "cells": [
  {
   "cell_type": "markdown",
   "metadata": {},
   "source": [
    "[Deep LEarning with Python, Keras Tutorial](https://www.youtube.com/watch?v=wQ8BIBpya2k)"
   ]
  },
  {
   "cell_type": "code",
   "execution_count": 7,
   "metadata": {},
   "outputs": [
    {
     "name": "stdout",
     "output_type": "stream",
     "text": [
      "2.1.0\n",
      "Train on 60000 samples\n",
      "Epoch 1/3\n",
      "60000/60000 [==============================] - 5s 80us/sample - loss: 0.2555 - accuracy: 0.9254\n",
      "Epoch 2/3\n",
      "60000/60000 [==============================] - 4s 59us/sample - loss: 0.1043 - accuracy: 0.9678\n",
      "Epoch 3/3\n",
      "60000/60000 [==============================] - 4s 61us/sample - loss: 0.0719 - accuracy: 0.9773\n"
     ]
    },
    {
     "data": {
      "text/plain": [
       "<tensorflow.python.keras.callbacks.History at 0x18db0b5a608>"
      ]
     },
     "execution_count": 7,
     "metadata": {},
     "output_type": "execute_result"
    }
   ],
   "source": [
    "import tensorflow as tf\n",
    "print(tf.__version__)\n",
    "\n",
    "mnist = tf.keras.datasets.mnist\n",
    "\n",
    "(x_train, y_train), (x_test, y_test) = mnist.load_data()\n",
    "\n",
    "x_train = tf.keras.utils.normalize(x_train, axis=1)\n",
    "x_test = tf.keras.utils.normalize(x_test, axis=1)\n",
    "\n",
    "model = tf.keras.models.Sequential()\n",
    "model.add(tf.keras.layers.Flatten())\n",
    "model.add(tf.keras.layers.Dense(128, activation=tf.nn.relu))\n",
    "model.add(tf.keras.layers.Dense(128, activation=tf.nn.relu))\n",
    "model.add(tf.keras.layers.Dense(10, activation=tf.nn.softmax))\n",
    "\n",
    "model.compile(optimizer='adam', loss='sparse_categorical_crossentropy', metrics=['accuracy'])\n",
    "\n",
    "model.fit(x_train,y_train, epochs=3)"
   ]
  },
  {
   "cell_type": "code",
   "execution_count": 9,
   "metadata": {},
   "outputs": [
    {
     "name": "stdout",
     "output_type": "stream",
     "text": [
      "10000/10000 [==============================] - 1s 63us/sample - loss: 0.0956 - accuracy: 0.9693\n",
      "0.0956290719728917 0.9693\n"
     ]
    }
   ],
   "source": [
    "val_loss, val_acc = model.evaluate(x_test, y_test)\n",
    "print(val_loss, val_acc)"
   ]
  },
  {
   "cell_type": "code",
   "execution_count": 6,
   "metadata": {},
   "outputs": [
    {
     "data": {
      "image/png": "[encoded data removed]",
      "text/plain": [
       "<Figure size 432x288 with 1 Axes>"
      ]
     },
     "metadata": {
      "needs_background": "light"
     },
     "output_type": "display_data"
    }
   ],
   "source": [
    "import matplotlib.pyplot as plt\n",
    "\n",
    "plt.imshow(x_train[0], cmap = plt.cm.binary)\n",
    "plt.show()"
   ]
  },
  {
   "cell_type": "markdown",
   "metadata": {},
   "source": [
    "## Deeplizard"
   ]
  },
  {
   "cell_type": "code",
   "execution_count": 11,
   "metadata": {},
   "outputs": [],
   "source": [
    "import numpy as np\n",
    "from sklearn.utils import shuffle\n",
    "from sklearn.preprocessing import MinMaxScaler"
   ]
  },
  {
   "cell_type": "code",
   "execution_count": 12,
   "metadata": {},
   "outputs": [],
   "source": [
    "train_labels = []\n",
    "train_samples = []\n",
    "\n",
    "#shuffle\n",
    "#normalize 0-1"
   ]
  },
  {
   "cell_type": "code",
   "execution_count": 14,
   "metadata": {},
   "outputs": [
    {
     "ename": "SyntaxError",
     "evalue": "positional argument follows keyword argument (<ipython-input-14-913eec3c799e>, line 2)",
     "output_type": "error",
     "traceback": [
      "\u001b[1;36m  File \u001b[1;32m\"<ipython-input-14-913eec3c799e>\"\u001b[1;36m, line \u001b[1;32m2\u001b[0m\n\u001b[1;33m    Dense(units=16, input_shape(1,), activation='relu'),\u001b[0m\n\u001b[1;37m                   ^\u001b[0m\n\u001b[1;31mSyntaxError\u001b[0m\u001b[1;31m:\u001b[0m positional argument follows keyword argument\n"
     ]
    }
   ],
   "source": [
    "model = Sequential([\n",
    "    Dense(units=16, input_shape(1,), activation='relu'),\n",
    "    Dense(units=32, activation='relu'),\n",
    "    Dense(units=2, activation='softmax')\n",
    "])\n"
   ]
  },
  {
   "cell_type": "markdown",
   "metadata": {},
   "source": [
    "## Studienarbeit\n",
    "\n",
    "Daten sollen in x_train-Datenstruktur eingelesen werden. Diese soll als Spalten die x,y und z-Koordinaten des rechten Handgelenks zu den ersten 150 Zeitpunkten und als Zeilen alle Datensätze haben.\n",
    "=> 450 Spalten\n",
    "\n",
    "y_train ist die Endposition der Bewegung (mit x, y und z-Koordinate)\n",
    "=> 3 Spalten\n",
    "\n",
    "10% der Daten werden als Testdaten verwendet\n",
    "\n",
    "[regression based neural network](https://towardsdatascience.com/regression-based-neural-networks-with-tensorflow-v2-0-predicting-average-daily-rates-e20fffa7ac9a)"
   ]
  },
  {
   "cell_type": "code",
   "execution_count": null,
   "metadata": {},
   "outputs": [],
   "source": [
    "import numpy as np\n",
    "import tensorflow as tf\n",
    "from tensorflow import keras\n",
    "from tensorflow.keras import layers\n",
    "\n",
    "LIMIT = 150\n",
    "\n",
    "inputs = keras.Input(shape=(3*LIMIT,))\n",
    "\n",
    "x = layers.Dense(64, activation=\"relu\")(inputs)\n",
    "x = layers.Dense(64, activation=\"relu\")(x)\n",
    "outputs = layers.Dense(3, activation=\"linear\")(x)\n",
    "\n",
    "model = keras.Model(inputs=inputs, outputs=outputs, name=\"mnist_model\")\n",
    "model.summary()\n",
    "\n",
    "keras.utils.plot_model(model, \"my_first_model.png\", show_shapes=True)"
   ]
  },
  {
   "cell_type": "code",
   "execution_count": 13,
   "metadata": {},
   "outputs": [
    {
     "name": "stdout",
     "output_type": "stream",
     "text": [
      "Model: \"hand_prediction\"\n",
      "_________________________________________________________________\n",
      "Layer (type)                 Output Shape              Param #   \n",
      "=================================================================\n",
      "input_9 (InputLayer)         [(None, 240)]             0         \n",
      "_________________________________________________________________\n",
      "dense_24 (Dense)             (None, 240)               57840     \n",
      "_________________________________________________________________\n",
      "dense_25 (Dense)             (None, 58320)             14055120  \n",
      "_________________________________________________________________\n",
      "dense_26 (Dense)             (None, 3)                 174963    \n",
      "=================================================================\n",
      "Total params: 14,287,923\n",
      "Trainable params: 14,287,923\n",
      "Non-trainable params: 0\n",
      "_________________________________________________________________\n",
      "mse test:  0.046936378     training:  0.025767071\n",
      "mae test:  0.15862021     training:  0.11245617\n",
      "accuracy test:  0.6744186     training:  0.7159578\n"
     ]
    }
   ],
   "source": [
    "import os, sys, pandas as pd, numpy as np, tensorflow as tf\n",
    "from sklearn.utils import shuffle\n",
    "from sklearn.model_selection import train_test_split\n",
    "from sklearn.preprocessing import MinMaxScaler\n",
    "from numpy.random import seed\n",
    "from numpy import mean, std\n",
    "seed(1)\n",
    "tf.random.set_seed(1)\n",
    "from tensorflow import keras\n",
    "from tensorflow.python.keras.layers import Dense\n",
    "from tensorflow.keras import layers\n",
    "from tensorflow.python.keras.models import Sequential\n",
    "from tensorflow.python.keras.wrappers.scikit_learn import KerasRegressor\n",
    "from sklearn.metrics import mean_absolute_error\n",
    "from sklearn.metrics import mean_squared_error\n",
    "\n",
    "LIMIT = 80\n",
    "\n",
    "x_train = np.empty([0,3*LIMIT])\n",
    "x_test = np.empty([0,3*LIMIT])\n",
    "y_train = np.empty([0,3])\n",
    "y_test = np.empty([0,3])\n",
    "\n",
    "\n",
    "for file in os.listdir('../DATA/5_filtered'):\n",
    "    if file.find(\"R\") != -1:\n",
    "        df = pd.read_csv('../DATA/5_filtered/'+file, sep = ';').iloc[:,[0,1,2]]\n",
    "        if len(df) >=LIMIT+20:\n",
    "            x_row = df.iloc[0:LIMIT].values.flatten()\n",
    "            y_row = df.iloc[-1].values.flatten()\n",
    "            x_train = np.vstack([x_train, x_row])\n",
    "            y_train = np.vstack([y_train, y_row])\n",
    "\n",
    "#x_train = tf.keras.utils.normalize(x_train, axis=1)\n",
    "#numberOfTestSamples = round(x_train.shape[0] * 0.1)\n",
    "\n",
    "X_train, X_test, y_train, y_test = train_test_split(x_train, y_train, test_size=0.1)\n",
    "\n",
    "#y_train=np.reshape(y_train, (-1,1))\n",
    "#y_val=np.reshape(y_val, (-1,1))\n",
    "\n",
    "scaler_x = MinMaxScaler()\n",
    "scaler_y = MinMaxScaler()\n",
    "\n",
    "xtrain_scale=scaler_x.fit_transform(X_train)\n",
    "xtest_scale=scaler_x.fit_transform(X_test)\n",
    "ytrain_scale=scaler_y.fit_transform(y_train)\n",
    "ytest_scale=scaler_y.fit_transform(y_test)\n",
    "\n",
    "#x_test = x_train[-numberOfTestSamples:,:]\n",
    "#x_train = x_train[:-numberOfTestSamples,:]\n",
    "#y_test = y_train[-numberOfTestSamples:,:]\n",
    "#y_train = y_train[:-numberOfTestSamples,:] \n",
    "\n",
    "inputs = keras.Input(shape=(3*LIMIT,))\n",
    "\n",
    "x = layers.Dense(3*LIMIT, input_dim=3*LIMIT, activation=\"relu\")(inputs)\n",
    "x = layers.Dense(3*LIMIT*(3*LIMIT+3), activation=\"relu\")(x)\n",
    "outputs = layers.Dense(3, activation=\"linear\")(x)\n",
    "model = keras.Model(inputs=inputs, outputs=outputs, name=\"hand_prediction\")\n",
    "model.summary()\n",
    "\n",
    "model.compile(loss='mse', optimizer='adam', metrics=['mse','mae','accuracy'])\n",
    "\n",
    "history = model.fit(xtrain_scale,ytrain_scale, epochs=150, batch_size=10, verbose=0, validation_split=0.1)\n",
    "predictions = model.predict(xtest_scale)\n",
    "\n",
    "score = model.evaluate(xtest_scale, ytest_scale, verbose=0)\n",
    "\n",
    "print('mse test: ', score[1], '    training: ', mean(history.history['mse']))\n",
    "print('mae test: ', score[2], '    training: ', mean(history.history['mae']))\n",
    "print('accuracy test: ', score[3], '    training: ', mean(history.history['accuracy']))\n",
    "\n",
    "#val_loss, val_acc = model.evaluate(xtest_scale, ytest_scale)\n",
    "#print(val_loss, val_acc)"
   ]
  },
  {
   "cell_type": "code",
   "execution_count": 14,
   "metadata": {},
   "outputs": [
    {
     "name": "stdout",
     "output_type": "stream",
     "text": [
      "dict_keys(['loss', 'mse', 'mae', 'accuracy', 'val_loss', 'val_mse', 'val_mae', 'val_accuracy'])\n"
     ]
    },
    {
     "data": {
      "image/png": "[encoded data removed]",
      "text/plain": [
       "<Figure size 432x288 with 1 Axes>"
      ]
     },
     "metadata": {
      "needs_background": "light"
     },
     "output_type": "display_data"
    },
    {
     "name": "stdout",
     "output_type": "stream",
     "text": [
      "[-342.16943 -568.4048   903.6824 ]\n",
      "[-247.1318 -308.1354  328.5749]\n",
      "(43, 3)\n"
     ]
    }
   ],
   "source": [
    "import math\n",
    "import matplotlib.pyplot as plt\n",
    "\n",
    "print(history.history.keys())\n",
    "\n",
    "plt.plot(history.history['mse'])\n",
    "plt.plot(history.history['val_mse'])\n",
    "plt.title('model loss')\n",
    "plt.ylabel('loss')\n",
    "plt.xlabel('epoch')\n",
    "plt.legend(['train', 'validation'], loc='upper left')\n",
    "plt.show()\n",
    "\n",
    "predictions = scaler_y.inverse_transform(predictions)\n",
    "y_test = scaler_y.inverse_transform(ytest_scale)\n",
    "\n",
    "print(predictions[0])\n",
    "print(y_test[0])\n",
    "\n",
    "print(ytest_scale.shape)"
   ]
  },
  {
   "cell_type": "markdown",
   "metadata": {},
   "source": [
    "## K-fache Kreuzvalidierung\n",
    "[Quelle](https://machinelearningmastery.com/deep-learning-models-for-multi-output-regression/)\n",
    "Realitätsnäher als einfache Teststrategie mit statischem Testdatensatz"
   ]
  },
  {
   "cell_type": "code",
   "execution_count": 12,
   "metadata": {},
   "outputs": [
    {
     "name": "stdout",
     "output_type": "stream",
     "text": [
      "----------------------------------------\n",
      "Test mse: 0.057\n",
      "Test mae: 0.184\n",
      "Test accuracy: 0.558\n",
      "----------------------------------------\n",
      "Test mse: 0.156\n",
      "Test mae: 0.303\n",
      "Test accuracy: 0.326\n",
      "----------------------------------------\n",
      "Test mse: 0.101\n",
      "Test mae: 0.256\n",
      "Test accuracy: 0.349\n",
      "----------------------------------------\n",
      "Test mse: 0.085\n",
      "Test mae: 0.227\n",
      "Test accuracy: 0.488\n",
      "----------------------------------------\n",
      "Test mse: 0.112\n",
      "Test mae: 0.252\n",
      "Test accuracy: 0.419\n",
      "----------------------------------------\n",
      "Test mse: 0.086\n",
      "Test mae: 0.22\n",
      "Test accuracy: 0.419\n",
      "----------------------------------------\n",
      "Test mse: 0.081\n",
      "Test mae: 0.22\n",
      "Test accuracy: 0.605\n",
      "----------------------------------------\n",
      "Test mse: 0.072\n",
      "Test mae: 0.218\n",
      "Test accuracy: 0.488\n",
      "----------------------------------------\n",
      "Test mse: 0.071\n",
      "Test mae: 0.21\n",
      "Test accuracy: 0.465\n",
      "----------------------------------------\n",
      "Test mse: 0.114\n",
      "Test mae: 0.277\n",
      "Test accuracy: 0.512\n",
      "----------------------------------------\n",
      "Test mse: 0.085\n",
      "Test mae: 0.229\n",
      "Test accuracy: 0.535\n",
      "----------------------------------------\n",
      "Test mse: 0.071\n",
      "Test mae: 0.207\n",
      "Test accuracy: 0.605\n",
      "----------------------------------------\n",
      "Test mse: 0.097\n",
      "Test mae: 0.262\n",
      "Test accuracy: 0.465\n",
      "----------------------------------------\n",
      "Test mse: 0.068\n",
      "Test mae: 0.206\n",
      "Test accuracy: 0.535\n",
      "----------------------------------------\n",
      "Test mse: 0.081\n",
      "Test mae: 0.222\n",
      "Test accuracy: 0.488\n",
      "----------------------------------------\n",
      "Test mse: 0.046\n",
      "Test mae: 0.163\n",
      "Test accuracy: 0.581\n",
      "----------------------------------------\n",
      "Test mse: 0.096\n",
      "Test mae: 0.247\n",
      "Test accuracy: 0.419\n",
      "----------------------------------------\n",
      "Test mse: 0.095\n",
      "Test mae: 0.237\n",
      "Test accuracy: 0.372\n",
      "----------------------------------------\n",
      "Test mse: 0.115\n",
      "Test mae: 0.271\n",
      "Test accuracy: 0.465\n",
      "----------------------------------------\n",
      "Test mse: 0.155\n",
      "Test mae: 0.317\n",
      "Test accuracy: 0.395\n",
      "=========================================\n",
      "mse: 0.09217242 (std: 0.027501425)\n",
      "mae: 0.23638356 (std: 0.036837716)\n",
      "accuracy: 0.47441858 (std: 0.079342894)\n"
     ]
    }
   ],
   "source": [
    "import os, sys, pandas as pd, numpy as np, tensorflow as tf\n",
    "from numpy import mean, std\n",
    "from sklearn.utils import shuffle\n",
    "from sklearn.model_selection import train_test_split\n",
    "from sklearn.preprocessing import MinMaxScaler\n",
    "from numpy.random import seed\n",
    "seed(1)\n",
    "tf.random.set_seed(1)\n",
    "from tensorflow import keras\n",
    "from tensorflow.python.keras.layers import Dense\n",
    "from tensorflow.keras import layers\n",
    "from tensorflow.python.keras.models import Sequential\n",
    "from tensorflow.python.keras.wrappers.scikit_learn import KerasRegressor\n",
    "from sklearn.metrics import mean_absolute_error\n",
    "from sklearn.metrics import mean_squared_error\n",
    "from sklearn.model_selection import RepeatedKFold\n",
    "\n",
    "LIMIT = 80\n",
    "\n",
    "X = np.empty([0,3*LIMIT])\n",
    "y = np.empty([0,3])\n",
    "\n",
    "for file in os.listdir('../DATA/5_filtered'):\n",
    "    if file.find(\"R\") != -1:\n",
    "        df = pd.read_csv('../DATA/5_filtered/'+file, sep = ';').iloc[:,[0,1,2]]\n",
    "        if len(df) >=LIMIT+20:\n",
    "            x_row = df.iloc[0:LIMIT].values.flatten()\n",
    "            y_row = df.iloc[-1].values.flatten()\n",
    "            X = np.vstack([X, x_row])\n",
    "            y = np.vstack([y, y_row])\n",
    "\n",
    "#k-fold cross-validation\n",
    "results = list()\n",
    "n_inputs, n_outputs = X.shape[1], y.shape[1]\n",
    "cv = RepeatedKFold(n_splits=10, n_repeats=2, random_state=1)\n",
    "\n",
    "for train_ix, test_ix in cv.split(X):\n",
    "    X_train, X_test = X[train_ix], X[test_ix]\n",
    "    y_train, y_test = y[train_ix], y[test_ix]\n",
    "    \n",
    "    #normalize values\n",
    "    scaler_x = MinMaxScaler()\n",
    "    scaler_y = MinMaxScaler()\n",
    "    xtrain_scale=scaler_x.fit_transform(X_train)\n",
    "    xtest_scale=scaler_x.fit_transform(X_test)\n",
    "    ytrain_scale=scaler_y.fit_transform(y_train)\n",
    "    ytest_scale=scaler_y.fit_transform(y_test)\n",
    "    \n",
    "    #define model\n",
    "    inputs = keras.Input(shape=(3*LIMIT,))\n",
    "    x = layers.Dense(3*LIMIT, input_dim=3*LIMIT, activation=\"relu\")(inputs)\n",
    "    x = layers.Dense(3*LIMIT*(3*LIMIT+3), activation=\"relu\")(x)\n",
    "    outputs = layers.Dense(3, activation=\"linear\")(x)\n",
    "    model = keras.Model(inputs=inputs, outputs=outputs, name=\"hand_prediction\")\n",
    "    model.compile(loss='mse', optimizer='adam', metrics=['mse','mae','accuracy'])\n",
    "    \n",
    "    #fit model\n",
    "    history = model.fit(xtrain_scale,ytrain_scale, epochs=200, verbose=0)\n",
    "    predictions = model.predict(xtest_scale)\n",
    "    \n",
    "    #evaluate mode on test set\n",
    "    score = model.evaluate(xtest_scale, ytest_scale, verbose=0)\n",
    "    results.append(score)\n",
    "    print('----------------------------------------')\n",
    "    print('Test mse:', round(score[1],3))\n",
    "    print('Test mae:', round(score[2],3))\n",
    "    print('Test accuracy:', round(score[3],3))\n",
    "    \n",
    "print('=========================================')\n",
    "\n",
    "mse = [item[1] for item in results]\n",
    "mae = [item[2] for item in results]\n",
    "accuracy = [item[3] for item in results]\n",
    "print(\"mse: \"+str(mean(mse))+\" (std: \"+str(std(mse))+\")\")\n",
    "print(\"mae: \"+str(mean(mae))+\" (std: \"+str(std(mae))+\")\")\n",
    "print(\"accuracy: \"+str(mean(accuracy))+\" (std: \"+str(std(accuracy))+\")\")"
   ]
  }
 ],
 "metadata": {
  "kernelspec": {
   "display_name": "Python 3",
   "language": "python",
   "name": "python3"
  },
  "language_info": {
   "codemirror_mode": {
    "name": "ipython",
    "version": 3
   },
   "file_extension": ".py",
   "mimetype": "text/x-python",
   "name": "python",
   "nbconvert_exporter": "python",
   "pygments_lexer": "ipython3",
   "version": "3.7.8"
  }
 },
 "nbformat": 4,
 "nbformat_minor": 4
}
