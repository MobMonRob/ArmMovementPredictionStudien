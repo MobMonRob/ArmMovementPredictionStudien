{
 "cells": [
  {
   "cell_type": "markdown",
   "metadata": {},
   "source": [
    "[Deep LEarning with Python, Keras Tutorial](https://www.youtube.com/watch?v=wQ8BIBpya2k)"
   ]
  },
  {
   "cell_type": "code",
   "execution_count": 7,
   "metadata": {},
   "outputs": [
    {
     "name": "stdout",
     "output_type": "stream",
     "text": [
      "2.1.0\n",
      "Train on 60000 samples\n",
      "Epoch 1/3\n",
      "60000/60000 [==============================] - 5s 80us/sample - loss: 0.2555 - accuracy: 0.9254\n",
      "Epoch 2/3\n",
      "60000/60000 [==============================] - 4s 59us/sample - loss: 0.1043 - accuracy: 0.9678\n",
      "Epoch 3/3\n",
      "60000/60000 [==============================] - 4s 61us/sample - loss: 0.0719 - accuracy: 0.9773\n"
     ]
    },
    {
     "data": {
      "text/plain": [
       "<tensorflow.python.keras.callbacks.History at 0x18db0b5a608>"
      ]
     },
     "execution_count": 7,
     "metadata": {},
     "output_type": "execute_result"
    }
   ],
   "source": [
    "import tensorflow as tf\n",
    "print(tf.__version__)\n",
    "\n",
    "mnist = tf.keras.datasets.mnist\n",
    "\n",
    "(x_train, y_train), (x_test, y_test) = mnist.load_data()\n",
    "\n",
    "x_train = tf.keras.utils.normalize(x_train, axis=1)\n",
    "x_test = tf.keras.utils.normalize(x_test, axis=1)\n",
    "\n",
    "model = tf.keras.models.Sequential()\n",
    "model.add(tf.keras.layers.Flatten())\n",
    "model.add(tf.keras.layers.Dense(128, activation=tf.nn.relu))\n",
    "model.add(tf.keras.layers.Dense(128, activation=tf.nn.relu))\n",
    "model.add(tf.keras.layers.Dense(10, activation=tf.nn.softmax))\n",
    "\n",
    "model.compile(optimizer='adam', loss='sparse_categorical_crossentropy', metrics=['accuracy'])\n",
    "\n",
    "model.fit(x_train,y_train, epochs=3)"
   ]
  },
  {
   "cell_type": "code",
   "execution_count": 9,
   "metadata": {},
   "outputs": [
    {
     "name": "stdout",
     "output_type": "stream",
     "text": [
      "10000/10000 [==============================] - 1s 63us/sample - loss: 0.0956 - accuracy: 0.9693\n",
      "0.0956290719728917 0.9693\n"
     ]
    }
   ],
   "source": [
    "val_loss, val_acc = model.evaluate(x_test, y_test)\n",
    "print(val_loss, val_acc)"
   ]
  },
  {
   "cell_type": "code",
   "execution_count": 6,
   "metadata": {},
   "outputs": [
    {
     "data": {
      "image/png": "[encoded data removed]",
      "text/plain": [
       "<Figure size 432x288 with 1 Axes>"
      ]
     },
     "metadata": {
      "needs_background": "light"
     },
     "output_type": "display_data"
    }
   ],
   "source": [
    "import matplotlib.pyplot as plt\n",
    "\n",
    "plt.imshow(x_train[0], cmap = plt.cm.binary)\n",
    "plt.show()"
   ]
  },
  {
   "cell_type": "markdown",
   "metadata": {},
   "source": [
    "## Deeplizard"
   ]
  },
  {
   "cell_type": "code",
   "execution_count": 11,
   "metadata": {},
   "outputs": [],
   "source": [
    "import numpy as np\n",
    "from sklearn.utils import shuffle\n",
    "from sklearn.preprocessing import MinMaxScaler"
   ]
  },
  {
   "cell_type": "code",
   "execution_count": 12,
   "metadata": {},
   "outputs": [],
   "source": [
    "train_labels = []\n",
    "train_samples = []\n",
    "\n",
    "#shuffle\n",
    "#normalize 0-1"
   ]
  },
  {
   "cell_type": "code",
   "execution_count": 14,
   "metadata": {},
   "outputs": [
    {
     "ename": "SyntaxError",
     "evalue": "positional argument follows keyword argument (<ipython-input-14-913eec3c799e>, line 2)",
     "output_type": "error",
     "traceback": [
      "\u001b[1;36m  File \u001b[1;32m\"<ipython-input-14-913eec3c799e>\"\u001b[1;36m, line \u001b[1;32m2\u001b[0m\n\u001b[1;33m    Dense(units=16, input_shape(1,), activation='relu'),\u001b[0m\n\u001b[1;37m                   ^\u001b[0m\n\u001b[1;31mSyntaxError\u001b[0m\u001b[1;31m:\u001b[0m positional argument follows keyword argument\n"
     ]
    }
   ],
   "source": [
    "model = Sequential([\n",
    "    Dense(units=16, input_shape(1,), activation='relu'),\n",
    "    Dense(units=32, activation='relu'),\n",
    "    Dense(units=2, activation='softmax')\n",
    "])\n"
   ]
  },
  {
   "cell_type": "markdown",
   "metadata": {},
   "source": [
    "## Studienarbeit\n",
    "\n",
    "Daten sollen in x_train-Datenstruktur eingelesen werden. Diese soll als Spalten die x,y und z-Koordinaten des rechten Handgelenks zu den ersten 150 Zeitpunkten und als Zeilen alle Datensätze haben.\n",
    "=> 450 Spalten\n",
    "\n",
    "y_train ist die Endposition der Bewegung (mit x, y und z-Koordinate)\n",
    "=> 3 Spalten\n",
    "\n",
    "10% der Daten werden als Testdaten verwendet\n",
    "\n",
    "[regression based neural network](https://towardsdatascience.com/regression-based-neural-networks-with-tensorflow-v2-0-predicting-average-daily-rates-e20fffa7ac9a)"
   ]
  },
  {
   "cell_type": "markdown",
   "metadata": {},
   "source": [
    "### Eigene Kostenfunktion"
   ]
  },
  {
   "cell_type": "code",
   "execution_count": 2,
   "metadata": {},
   "outputs": [],
   "source": [
    "def euclid_loss(y_true, y_pred):\n",
    "    euclid = tf.square(tf.norm(y_true-y_pred,ord=1, axis=-1)) #quadrat unnötig? nur zur Verstärkung von Ausreißern\n",
    "    return tf.reduce_mean(euclid, axis=-1)"
   ]
  },
  {
   "cell_type": "code",
   "execution_count": 3,
   "metadata": {},
   "outputs": [
    {
     "name": "stdout",
     "output_type": "stream",
     "text": [
      "Failed to import pydot. You must install pydot and graphviz for `pydotprint` to work.\n",
      "Model: \"hand_prediction\"\n",
      "_________________________________________________________________\n",
      "Layer (type)                 Output Shape              Param #   \n",
      "=================================================================\n",
      "input_2 (InputLayer)         [(None, 300)]             0         \n",
      "_________________________________________________________________\n",
      "dense_3 (Dense)              (None, 300)               90300     \n",
      "_________________________________________________________________\n",
      "dense_4 (Dense)              (None, 50)                15050     \n",
      "_________________________________________________________________\n",
      "dense_5 (Dense)              (None, 3)                 153       \n",
      "=================================================================\n",
      "Total params: 105,503\n",
      "Trainable params: 105,503\n",
      "Non-trainable params: 0\n",
      "_________________________________________________________________\n",
      "Test:201.459, Anzahl Datensätze: 123\n",
      "Train:109.034, Anzahl Datensätze: 490\n"
     ]
    },
    {
     "ename": "NameError",
     "evalue": "name 'plt' is not defined",
     "output_type": "error",
     "traceback": [
      "\u001b[1;31m---------------------------------------------------------------------------\u001b[0m",
      "\u001b[1;31mNameError\u001b[0m                                 Traceback (most recent call last)",
      "\u001b[1;32m<ipython-input-3-e6a014219572>\u001b[0m in \u001b[0;36m<module>\u001b[1;34m\u001b[0m\n\u001b[0;32m     88\u001b[0m \u001b[1;33m\u001b[0m\u001b[0m\n\u001b[0;32m     89\u001b[0m \u001b[1;31m#visualize\u001b[0m\u001b[1;33m\u001b[0m\u001b[1;33m\u001b[0m\u001b[1;33m\u001b[0m\u001b[0m\n\u001b[1;32m---> 90\u001b[1;33m \u001b[0mplt\u001b[0m\u001b[1;33m.\u001b[0m\u001b[0mplot\u001b[0m\u001b[1;33m(\u001b[0m\u001b[0mhistory\u001b[0m\u001b[1;33m.\u001b[0m\u001b[0mhistory\u001b[0m\u001b[1;33m[\u001b[0m\u001b[1;34m\"loss\"\u001b[0m\u001b[1;33m]\u001b[0m\u001b[1;33m)\u001b[0m\u001b[1;33m\u001b[0m\u001b[1;33m\u001b[0m\u001b[0m\n\u001b[0m\u001b[0;32m     91\u001b[0m \u001b[0mplt\u001b[0m\u001b[1;33m.\u001b[0m\u001b[0mplot\u001b[0m\u001b[1;33m(\u001b[0m\u001b[0mhistory\u001b[0m\u001b[1;33m.\u001b[0m\u001b[0mhistory\u001b[0m\u001b[1;33m[\u001b[0m\u001b[1;34m'val_loss'\u001b[0m\u001b[1;33m]\u001b[0m\u001b[1;33m)\u001b[0m\u001b[1;33m\u001b[0m\u001b[1;33m\u001b[0m\u001b[0m\n\u001b[0;32m     92\u001b[0m \u001b[0mplt\u001b[0m\u001b[1;33m.\u001b[0m\u001b[0mtitle\u001b[0m\u001b[1;33m(\u001b[0m\u001b[1;34m'model loss'\u001b[0m\u001b[1;33m)\u001b[0m\u001b[1;33m\u001b[0m\u001b[1;33m\u001b[0m\u001b[0m\n",
      "\u001b[1;31mNameError\u001b[0m: name 'plt' is not defined"
     ]
    }
   ],
   "source": [
    "import os, sys, pandas as pd, numpy as np, tensorflow as tf, math\n",
    "from sklearn.utils import shuffle\n",
    "from sklearn.model_selection import train_test_split\n",
    "from sklearn.preprocessing import MinMaxScaler\n",
    "from numpy.random import seed\n",
    "from numpy import mean, std\n",
    "seed(1)\n",
    "tf.random.set_seed(1)\n",
    "from tensorflow import keras\n",
    "from tensorflow.python.keras.layers import Dense, LSTM, Conv3D\n",
    "from tensorflow.keras import layers\n",
    "from tensorflow.python.keras.models import Sequential\n",
    "from tensorflow.python.keras.wrappers.scikit_learn import KerasRegressor\n",
    "from sklearn.metrics import mean_absolute_error\n",
    "from sklearn.metrics import mean_squared_error\n",
    "\n",
    "LIMIT = 100\n",
    "\n",
    "x_train = np.empty([0,3*LIMIT])\n",
    "x_test = np.empty([0,3*LIMIT])\n",
    "y_train = np.empty([0,3])\n",
    "y_test = np.empty([0,3])\n",
    "\n",
    "\n",
    "for file in os.listdir('../DATA/7_filtered/'):\n",
    "    df = pd.read_csv('../DATA/7_filtered/'+file, sep = ';').iloc[:,[0,1,2]]\n",
    "    if len(df) >=LIMIT+20:\n",
    "        x_row = df.iloc[0:LIMIT].values.flatten()\n",
    "        y_row = df.iloc[-1].values.flatten()\n",
    "        x_train = np.vstack([x_train, x_row])\n",
    "        y_train = np.vstack([y_train, y_row])\n",
    "\n",
    "X_train, X_test, y_train, y_test = train_test_split(x_train, y_train, test_size=0.2)\n",
    "\n",
    "scaler_x = MinMaxScaler()\n",
    "scaler_y = MinMaxScaler()\n",
    "\n",
    "xtrain_scale=scaler_x.fit_transform(X_train)\n",
    "xtest_scale=scaler_x.fit_transform(X_test)\n",
    "ytrain_scale=scaler_y.fit_transform(y_train)\n",
    "ytest_scale=scaler_y.fit_transform(y_test)\n",
    "\n",
    "inputs = keras.Input(shape=(3*LIMIT,))\n",
    "\n",
    "x = layers.Dense(3*LIMIT, input_dim=3*LIMIT, activation=\"relu\")(inputs)\n",
    "x = layers.Dense(0.5*LIMIT, activation=\"relu\")(x)\n",
    "outputs = layers.Dense(3, activation=\"linear\")(x)\n",
    "model = keras.Model(inputs=inputs, outputs=outputs, name=\"hand_prediction\")\n",
    "#model = Sequential()\n",
    "#model.add(LSTM(100,return_sequences=True)) #input takes any steps, two features (var1 and var2)\n",
    "#model.add(LSTM(70,return_sequences=True))\n",
    "#model.add(LSTM(3,return_sequences=True)) #output keeps the steps and has two features\n",
    "keras.utils.plot_model(model, \"ml_model.png\", show_shapes=True)\n",
    "model.summary()\n",
    "\n",
    "model.compile(loss=euclid_loss, optimizer='adam', metrics=['mse','mae','accuracy'])\n",
    "\n",
    "history = model.fit(xtrain_scale,ytrain_scale, epochs=1000, batch_size=350, verbose=0, validation_split=0.05)\n",
    "predictions = model.predict(xtest_scale)\n",
    "\n",
    "score = model.evaluate(xtest_scale, ytest_scale, verbose=0)\n",
    "\n",
    "#print('mse test: ', score[1], '    training: ', mean(history.history['mse']))\n",
    "#print('mae test: ', score[2], '    training: ', mean(history.history['mae']))\n",
    "#print('accuracy test: ', score[3], '    training: ', mean(history.history['accuracy']))\n",
    "\n",
    "#euclid metric test_Data\n",
    "predictions = scaler_y.inverse_transform(model.predict(xtest_scale))\n",
    "x = pd.DataFrame(predictions)\n",
    "y = pd.DataFrame(y_test)\n",
    "distance_pred_real = []\n",
    "for i in range(min(len(x),len(y))):\n",
    "    distance_pred_real.append(math.sqrt((x.iloc[i,0]-y.iloc[i,0])**2 + (x.iloc[i,1]-y.iloc[i,1])**2 + (x.iloc[i,2]-y.iloc[i,2])**2))\n",
    "euclid_metric_test = round(mean(distance_pred_real),3)\n",
    "number_of_test_data = len(distance_pred_real)\n",
    "print(f\"Test:{euclid_metric_test}, Anzahl Datensätze: {number_of_test_data}\")\n",
    "\n",
    "#euclid metric train data\n",
    "predictions = scaler_y.inverse_transform(model.predict(xtrain_scale))\n",
    "x = pd.DataFrame(predictions)\n",
    "y = pd.DataFrame(y_train)\n",
    "distance_pred_real = []\n",
    "for i in range(min(len(x),len(y))):\n",
    "    distance_pred_real.append(math.sqrt((x.iloc[i,0]-y.iloc[i,0])**2 + (x.iloc[i,1]-y.iloc[i,1])**2 + (x.iloc[i,2]-y.iloc[i,2])**2))\n",
    "euclid_metric_train = round(mean(distance_pred_real),3)\n",
    "number_of_train_data = len(distance_pred_real)\n",
    "print(f\"Train:{euclid_metric_train}, Anzahl Datensätze: {number_of_train_data}\")\n",
    "\n",
    "#visualize\n",
    "plt.plot(history.history[\"loss\"])\n",
    "plt.plot(history.history['val_loss'])\n",
    "plt.title('model loss')\n",
    "plt.ylabel('loss')\n",
    "plt.xlabel('epoch')\n",
    "plt.legend(['train', 'validation'], loc='upper left')\n",
    "plt.show()\n",
    "\n",
    "#export data\n",
    "model_name = f\"{euclid_metric_test}_{euclid_metric_train}.json\"\n",
    "print(\"Model name: \"+model_name)\n",
    "model_file = open('../ML_models/models_overview.csv','a')\n",
    "model_file.write(f\"\\n{LIMIT};{number_of_test_data};{number_of_train_data};{euclid_metric_test};{euclid_metric_train};{str(round(score[1],3))};{str(round(mean(history.history['mse']),3))};{str(round(score[2],3))};{str(round(mean(history.history['mae']),3))};{str(round(score[3],3))};{str(round(mean(history.history['accuracy']),3))};{model_name}\")\n",
    "model_file.close()\n",
    "\n",
    "model_json_file = open('../ML_models/models/'+model_name,'w')\n",
    "model_json_file.write(model.to_json())\n",
    "model_json_file.close()"
   ]
  },
  {
   "cell_type": "markdown",
   "metadata": {},
   "source": [
    "## Ergebnisvisualisierung\n",
    "### Entwicklung der Metriken über Epochen hinweg"
   ]
  },
  {
   "cell_type": "code",
   "execution_count": null,
   "metadata": {},
   "outputs": [],
   "source": [
    "import math\n",
    "import matplotlib.pyplot as plt\n",
    "\n",
    "for metric in ['loss','mse', 'mae', 'accuracy']:\n",
    "    plt.plot(history.history[metric])\n",
    "    plt.plot(history.history['val_'+metric])\n",
    "    plt.title('model '+metric)\n",
    "    plt.ylabel(metric)\n",
    "    plt.xlabel('epoch')\n",
    "    plt.legend(['train', 'validation'], loc='upper left')\n",
    "    plt.show()\n",
    "\n",
    "predictions = scaler_y.inverse_transform(predictions)\n",
    "y_test = scaler_y.inverse_transform(ytest_scale)\n",
    "\n"
   ]
  },
  {
   "cell_type": "markdown",
   "metadata": {},
   "source": [
    "## Versuch Klassifikation draus zu machen\n",
    "Entweder jede Koordinate einzeln als Klassifikationsproblem betrachten, oder gleich alle drei (3 Outputs)?\n",
    "Oder alle Würfel durchnummerieren? (wieder nur 1 Output)\n",
    "\n",
    "=> Trotzdem als Input alle drei Dimensionen (genauer?)\n",
    "\n",
    "Problem, dass Training und Test getrennt skaliert werden?? Andere Klassen?\n",
    "\n",
    "mutli class Problem\n",
    "\n",
    "Encoding: one-hot encoding (Bitmap, Kategorien als Spalten)\n",
    "\n",
    "Loss: Categorical Crossentropy bei one hot encoding, bei Integerencoding SparseCategoricalCrossentropy\n",
    "\n",
    "[Link](https://medium.com/deep-learning-with-keras/how-to-solve-classification-problems-in-deep-learning-with-tensorflow-keras-6e39c5b09501https://medium.com/deep-learning-with-keras/how-to-solve-classification-problems-in-deep-learning-with-tensorflow-keras-6e39c5b09501)"
   ]
  },
  {
   "cell_type": "code",
   "execution_count": 242,
   "metadata": {},
   "outputs": [
    {
     "name": "stdout",
     "output_type": "stream",
     "text": [
      "[[0. 0. 0. ... 0. 0. 0.]\n",
      " [0. 0. 0. ... 0. 0. 0.]\n",
      " [0. 0. 0. ... 0. 0. 0.]\n",
      " ...\n",
      " [0. 0. 0. ... 0. 0. 0.]\n",
      " [0. 0. 0. ... 0. 0. 0.]\n",
      " [0. 0. 0. ... 0. 0. 0.]]\n"
     ]
    }
   ],
   "source": [
    "from tensorflow import keras\n",
    "from keras.utils import to_categorical\n",
    "\n",
    "print(to_categorical(y_train))"
   ]
  },
  {
   "cell_type": "code",
   "execution_count": 54,
   "metadata": {
    "tags": []
   },
   "outputs": [
    {
     "name": "stderr",
     "output_type": "stream",
     "text": [
      "D:\\Programme\\Anaconda\\envs\\Vorlesung\\lib\\site-packages\\sklearn\\utils\\validation.py:72: DataConversionWarning: A column-vector y was passed when a 1d array was expected. Please change the shape of y to (n_samples, ), for example using ravel().\n",
      "  return f(**kwargs)\n"
     ]
    },
    {
     "name": "stdout",
     "output_type": "stream",
     "text": [
      "Model: \"hand_prediction\"\n",
      "_________________________________________________________________\n",
      "Layer (type)                 Output Shape              Param #   \n",
      "=================================================================\n",
      "input_22 (InputLayer)        [(None, 100)]             0         \n",
      "_________________________________________________________________\n",
      "dense_42 (Dense)             (None, 100)               10100     \n",
      "_________________________________________________________________\n",
      "dense_43 (Dense)             (None, 99)                9999      \n",
      "=================================================================\n",
      "Total params: 20,099\n",
      "Trainable params: 20,099\n",
      "Non-trainable params: 0\n",
      "_________________________________________________________________\n",
      "loss test:  47.55358468332598     training:  0.36200163987549866\n",
      "accuracy test:  0.016129032     training:  0.9136364\n"
     ]
    },
    {
     "data": {
      "image/png": "[encoded data removed]",
      "text/plain": [
       "<Figure size 432x288 with 1 Axes>"
      ]
     },
     "metadata": {
      "needs_background": "light"
     },
     "output_type": "display_data"
    },
    {
     "data": {
      "image/png": "[encoded data removed]",
      "text/plain": [
       "<Figure size 432x288 with 1 Axes>"
      ]
     },
     "metadata": {
      "needs_background": "light"
     },
     "output_type": "display_data"
    }
   ],
   "source": [
    "import os, sys, pandas as pd, numpy as np, tensorflow as tf, math\n",
    "from sklearn.utils import shuffle\n",
    "from sklearn.model_selection import train_test_split\n",
    "from sklearn.preprocessing import MinMaxScaler\n",
    "from numpy.random import seed\n",
    "from numpy import mean, std\n",
    "seed(1)\n",
    "tf.random.set_seed(1)\n",
    "from tensorflow import keras\n",
    "from tensorflow.python.keras.layers import Dense, LSTM, Conv3D\n",
    "from tensorflow.keras import layers\n",
    "from tensorflow.python.keras.models import Sequential\n",
    "from tensorflow.python.keras.wrappers.scikit_learn import KerasRegressor\n",
    "from sklearn.metrics import mean_absolute_error\n",
    "from sklearn.metrics import mean_squared_error\n",
    "from keras.utils import to_categorical\n",
    "from sklearn.preprocessing import LabelEncoder\n",
    "from keras.utils import np_utils\n",
    "import math\n",
    "import matplotlib.pyplot as plt\n",
    "\n",
    "LIMIT = 100\n",
    "\n",
    "#x-Koordinate of cube\n",
    "x_train = np.empty([0,LIMIT])\n",
    "x_test = np.empty([0,LIMIT])\n",
    "y_train = np.empty([0,1])\n",
    "y_test = np.empty([0,1])\n",
    "\n",
    "\n",
    "for file in os.listdir('../DATA/7_filtered/'):\n",
    "    df = pd.read_csv('../DATA/7_filtered/'+file, sep = ';').iloc[:,[0,1,2]]\n",
    "    if len(df) >=LIMIT+20:\n",
    "        x_row = df.iloc[0:LIMIT,0].values.flatten()\n",
    "        y_row = int(df.iloc[-1,0]//30)\n",
    "        x_train = np.vstack([x_train, x_row])\n",
    "        y_train = np.vstack([y_train, y_row])\n",
    "\n",
    "y_encoder = LabelEncoder()\n",
    "encoded_y = y_encoder.fit_transform(y_train)\n",
    "X_train, X_test, y_train, y_test = train_test_split(x_train, encoded_y, test_size=0.1)\n",
    "\n",
    "categorical_y_train = to_categorical(y_train)\n",
    "categorical_y_test = to_categorical(y_test, num_classes =categorical_y_train.shape[1] ) #immer eine KLasse weniger, deshalb funktioniert evaluate nicht\n",
    "\n",
    "#y_train_encoder = LabelEncoder()\n",
    "#encoded_y_train = y_train_encoder.fit_transform(y_train)\n",
    "#categorical_y_train = np_utils.to_categorical(encoded_y_train)\n",
    "\n",
    "#y_test_encoder = LabelEncoder()\n",
    "#encoded_y_test = y_test_encoder.fit_transform(y_test)\n",
    "#categorical_y_test = np_utils.to_categorical(encoded_y_test)\n",
    "\n",
    "inputs = keras.Input(shape=(LIMIT,))\n",
    "x = layers.Dense(LIMIT, input_dim=LIMIT, activation=\"relu\")(inputs)\n",
    "outputs = layers.Dense(categorical_y_train.shape[1], activation=\"softmax\")(x) #\n",
    "model = keras.Model(inputs=inputs, outputs=outputs, name=\"hand_prediction\")\n",
    "\n",
    "\n",
    "model.summary()\n",
    "\n",
    "model.compile(loss='categorical_crossentropy', optimizer='adam', metrics=['categorical_accuracy'])\n",
    "\n",
    "history = model.fit(X_train,categorical_y_train, epochs=900, batch_size=100, verbose=0, validation_split=0.2)\n",
    "predictions = model.predict(X_test)\n",
    "\n",
    "score = model.evaluate(X_test, categorical_y_test, verbose=0)\n",
    "\n",
    "print('loss test: ', score[0], '    training: ', history.history['loss'][-1])\n",
    "print('accuracy test: ', score[1], '    training: ', history.history['categorical_accuracy'][-1])\n",
    "#print('mae test: ', score[2], '    training: ', mean(history.history['mae']))\n",
    "#print('accuracy test: ', score[3], '    training: ', mean(history.history['accuracy']))\n",
    "\n",
    "\n",
    "\n",
    "#visualize\n",
    "plt.plot(history.history[\"loss\"])\n",
    "plt.plot(history.history['val_loss'])\n",
    "plt.title('model loss')\n",
    "plt.ylabel('loss')\n",
    "plt.xlabel('epoch')\n",
    "plt.legend(['train', 'validation'], loc='upper left')\n",
    "plt.show()\n",
    "\n",
    "plt.plot(history.history[\"categorical_accuracy\"])\n",
    "plt.plot(history.history['val_categorical_accuracy'])\n",
    "plt.title('model accuracy')\n",
    "plt.ylabel('accuracy')\n",
    "plt.xlabel('epoch')\n",
    "plt.legend(['train', 'validation'], loc='upper left')\n",
    "plt.show()"
   ]
  },
  {
   "cell_type": "code",
   "execution_count": 56,
   "metadata": {},
   "outputs": [
    {
     "name": "stdout",
     "output_type": "stream",
     "text": [
      "62\n",
      "69\n",
      "(62, 100)\n",
      "(62, 99)\n",
      "[47.55358468332598, 0.016129032]\n",
      "['loss', 'categorical_accuracy']\n",
      "loss test:  47.55358468332598     training:  0.36200163987549866\n",
      "accuracy test:  0.016129032     training:  0.9136364\n"
     ]
    }
   ],
   "source": [
    "predictions = model.predict(X_test)\n",
    "print(np.argmax(predictions[1]))\n",
    "\n",
    "print(np.argmax(categorical_y_test[1]))\n",
    "#score = model.evaluate(xtest_scale, ytest_scale, verbose=0)\n",
    "\n",
    "print(X_test.shape)\n",
    "print(categorical_y_test.shape)\n",
    "score = model.evaluate(X_test, categorical_y_test, verbose=0)\n",
    "print(score)\n",
    "print(model.metrics_names)\n",
    "print('loss test: ', score[0], '    training: ', history.history['loss'][-1])\n",
    "print('accuracy test: ', score[1], '    training: ', history.history['categorical_accuracy'][-1])"
   ]
  },
  {
   "cell_type": "code",
   "execution_count": 45,
   "metadata": {},
   "outputs": [
    {
     "name": "stdout",
     "output_type": "stream",
     "text": [
      "99\n",
      "98\n",
      "98\n",
      "90\n"
     ]
    }
   ],
   "source": [
    "print(categorical_y_train.shape[1])\n",
    "print(categorical_y_test.shape[1])\n",
    "\n",
    "print(max(y_train)-min(y_train))\n",
    "print(max(y_test)-min(y_test))"
   ]
  },
  {
   "cell_type": "code",
   "execution_count": 25,
   "metadata": {},
   "outputs": [
    {
     "name": "stdout",
     "output_type": "stream",
     "text": [
      "[[0.00000000e+00 0.00000000e+00 0.00000000e+00 0.00000000e+00\n",
      "  0.00000000e+00 0.00000000e+00 0.00000000e+00 0.00000000e+00\n",
      "  0.00000000e+00 0.00000000e+00 0.00000000e+00 0.00000000e+00\n",
      "  0.00000000e+00 5.13532156e-35 0.00000000e+00 2.86683213e-34\n",
      "  0.00000000e+00 0.00000000e+00 0.00000000e+00 0.00000000e+00\n",
      "  0.00000000e+00 0.00000000e+00 0.00000000e+00 5.64234116e-38\n",
      "  0.00000000e+00 0.00000000e+00 0.00000000e+00 0.00000000e+00\n",
      "  0.00000000e+00 6.26596345e-35 0.00000000e+00 0.00000000e+00\n",
      "  0.00000000e+00 6.34482905e-36 2.99793491e-26 0.00000000e+00\n",
      "  1.49521993e-38 1.03272692e-36 0.00000000e+00 2.09159980e-14\n",
      "  0.00000000e+00 5.26182492e-17 7.73596200e-26 0.00000000e+00\n",
      "  1.64352679e-21 0.00000000e+00 2.79671908e-33 3.20362669e-05\n",
      "  4.96774795e-04 1.02139984e-37 3.22059394e-22 9.75058433e-22\n",
      "  5.65209019e-04 3.01098240e-08 9.27598332e-04 5.07584959e-02\n",
      "  4.36736855e-13 1.66462814e-06 6.61311709e-16 8.35230285e-09\n",
      "  7.44181192e-12 8.40463599e-06 0.00000000e+00 5.87435206e-04\n",
      "  1.14208469e-33 6.34131138e-05 9.45541501e-01 2.07778399e-07\n",
      "  1.13919793e-06 9.54560470e-04 2.40677109e-05 4.25399276e-06\n",
      "  1.99152465e-11 7.99012696e-07 1.01536575e-24 3.15045399e-05\n",
      "  5.80069537e-17 7.24929521e-07 2.04159112e-09 1.41236745e-10\n",
      "  1.48592698e-33 5.52568127e-37 7.34741576e-23 1.15973857e-17\n",
      "  5.06114661e-09 2.38389034e-13 1.04517444e-23 3.98521605e-34\n",
      "  0.00000000e+00 0.00000000e+00 0.00000000e+00 6.35062586e-33\n",
      "  2.47301095e-14]\n",
      " [0.00000000e+00 0.00000000e+00 1.33620460e-35 0.00000000e+00\n",
      "  0.00000000e+00 0.00000000e+00 0.00000000e+00 0.00000000e+00\n",
      "  0.00000000e+00 1.51544109e-28 0.00000000e+00 0.00000000e+00\n",
      "  0.00000000e+00 0.00000000e+00 0.00000000e+00 4.50888205e-22\n",
      "  0.00000000e+00 0.00000000e+00 0.00000000e+00 0.00000000e+00\n",
      "  7.04505597e-31 0.00000000e+00 0.00000000e+00 0.00000000e+00\n",
      "  1.63558445e-36 6.95383199e-28 1.96455180e-17 1.16869589e-26\n",
      "  5.06823740e-21 6.67464703e-26 2.79052492e-28 1.10057797e-15\n",
      "  5.63707871e-36 4.68717337e-14 0.00000000e+00 5.58236487e-12\n",
      "  0.00000000e+00 2.43815079e-19 4.96871367e-20 1.25002031e-09\n",
      "  3.45220173e-23 1.63364846e-17 9.09751718e-10 4.27251608e-18\n",
      "  1.91010347e-17 1.14930309e-14 1.52513575e-08 1.24229595e-01\n",
      "  3.91831124e-22 7.76536890e-11 8.55505787e-05 3.68402042e-09\n",
      "  4.53700559e-05 2.24131810e-07 4.27960549e-06 2.69927170e-07\n",
      "  2.80881759e-05 7.77169783e-03 1.94768671e-18 2.76315451e-01\n",
      "  0.00000000e+00 2.04160355e-09 9.90280523e-24 1.09486355e-05\n",
      "  2.08182919e-05 1.76139867e-10 9.93164758e-06 1.48885965e-01\n",
      "  1.65214262e-32 2.65371733e-17 1.43023040e-02 1.07153253e-09\n",
      "  2.93328480e-06 1.92870630e-06 4.23794597e-01 2.54915189e-03\n",
      "  5.81750085e-30 1.63500636e-26 2.33974170e-05 1.91407406e-03\n",
      "  3.70925875e-07 1.06870425e-06 1.50416018e-33 6.85904848e-33\n",
      "  0.00000000e+00 1.48319603e-13 7.00050835e-15 2.21115923e-30\n",
      "  0.00000000e+00 7.51628500e-18 1.96643714e-06 1.52992431e-17\n",
      "  1.10851851e-26]\n",
      " [7.32026019e-27 1.64155235e-21 2.17458083e-12 3.33122216e-06\n",
      "  9.19819460e-04 2.28971778e-03 3.58918459e-23 5.31768876e-07\n",
      "  3.69234975e-26 3.97732689e-14 2.49378729e-12 2.58398785e-32\n",
      "  2.50154972e-05 1.40346221e-10 1.49201298e-06 9.64830399e-01\n",
      "  4.62161051e-06 1.02697927e-28 6.95691393e-10 1.38894757e-06\n",
      "  1.84334107e-02 6.15888244e-16 3.87202770e-12 1.09258415e-02\n",
      "  1.85330817e-03 3.00123065e-10 5.74107544e-05 1.06897083e-07\n",
      "  2.74494715e-11 6.34751981e-04 2.77280957e-15 9.65504370e-08\n",
      "  5.30623190e-08 8.76140480e-12 9.93093439e-18 1.83395921e-16\n",
      "  2.42158194e-06 4.16352640e-16 9.68633748e-21 1.11578180e-09\n",
      "  3.58753774e-18 4.56056348e-08 2.46757696e-18 0.00000000e+00\n",
      "  0.00000000e+00 1.03017744e-20 7.12461620e-23 0.00000000e+00\n",
      "  0.00000000e+00 0.00000000e+00 9.82237753e-28 1.92534139e-06\n",
      "  4.30288671e-14 3.10647528e-24 0.00000000e+00 3.21601578e-13\n",
      "  0.00000000e+00 0.00000000e+00 1.37655839e-36 0.00000000e+00\n",
      "  1.44933038e-05 4.46250148e-09 0.00000000e+00 0.00000000e+00\n",
      "  0.00000000e+00 6.07663503e-11 0.00000000e+00 0.00000000e+00\n",
      "  0.00000000e+00 0.00000000e+00 0.00000000e+00 0.00000000e+00\n",
      "  0.00000000e+00 0.00000000e+00 0.00000000e+00 8.06457567e-10\n",
      "  0.00000000e+00 1.23365877e-25 0.00000000e+00 0.00000000e+00\n",
      "  0.00000000e+00 0.00000000e+00 0.00000000e+00 0.00000000e+00\n",
      "  0.00000000e+00 0.00000000e+00 0.00000000e+00 1.35220068e-29\n",
      "  1.20816156e-38 0.00000000e+00 0.00000000e+00 0.00000000e+00\n",
      "  3.08969022e-26]]\n"
     ]
    }
   ],
   "source": [
    "print(predictions[0:3])"
   ]
  },
  {
   "cell_type": "code",
   "execution_count": 15,
   "metadata": {},
   "outputs": [
    {
     "name": "stdout",
     "output_type": "stream",
     "text": [
      "[[ 12.]\n",
      " [-25.]\n",
      " [ 16.]\n",
      " [ 21.]\n",
      " [ 40.]\n",
      " [-12.]\n",
      " [-49.]\n",
      " [ 22.]]\n",
      "92\n",
      "0\n",
      "93\n"
     ]
    }
   ],
   "source": [
    "print(y_train[0:8])\n",
    "\n",
    "\n",
    "\n",
    "encoder = LabelEncoder()\n",
    "encoded_Y = encoder.fit_transform(y_train)\n",
    "\n",
    "print(max(encoded_Y))\n",
    "print(min(encoded_Y))\n",
    "\n",
    "categorical_y = np_utils.to_categorical(encoded_Y)\n",
    "print(categorical_y.shape[1])"
   ]
  },
  {
   "cell_type": "markdown",
   "metadata": {},
   "source": [
    "### Visualisierung des Testdatensatzes\n",
    "Visualisierung der Predictions je Koordinate auf x-Achse und tatsächlichen Werte auf y-Achse, Punkte sollten idealerweise auf roter Urpsprungsgeraden liegen.\n",
    "Viertes Koordinatesystem zeigt die Länge der Ortsvektoren der Punkte (als Aggregation über x-, y- und z-Koordinate)."
   ]
  },
  {
   "cell_type": "code",
   "execution_count": 211,
   "metadata": {},
   "outputs": [
    {
     "data": {
      "image/png": "[encoded data removed]",
      "text/plain": [
       "<Figure size 432x288 with 1 Axes>"
      ]
     },
     "metadata": {
      "needs_background": "light"
     },
     "output_type": "display_data"
    },
    {
     "data": {
      "image/png": "[encoded data removed]",
      "text/plain": [
       "<Figure size 432x288 with 1 Axes>"
      ]
     },
     "metadata": {
      "needs_background": "light"
     },
     "output_type": "display_data"
    },
    {
     "data": {
      "image/png": "[encoded data removed]",
      "text/plain": [
       "<Figure size 432x288 with 1 Axes>"
      ]
     },
     "metadata": {
      "needs_background": "light"
     },
     "output_type": "display_data"
    },
    {
     "data": {
      "image/png": "[encoded data removed]",
      "text/plain": [
       "<Figure size 432x288 with 1 Axes>"
      ]
     },
     "metadata": {
      "needs_background": "light"
     },
     "output_type": "display_data"
    },
    {
     "data": {
      "image/png": "[encoded data removed]",
      "text/plain": [
       "<Figure size 432x288 with 1 Axes>"
      ]
     },
     "metadata": {
      "needs_background": "light"
     },
     "output_type": "display_data"
    },
    {
     "data": {
      "image/png": "[encoded data removed]",
      "text/plain": [
       "<Figure size 432x288 with 1 Axes>"
      ]
     },
     "metadata": {
      "needs_background": "light"
     },
     "output_type": "display_data"
    },
    {
     "data": {
      "image/png": "[encoded data removed]",
      "text/plain": [
       "<Figure size 432x288 with 1 Axes>"
      ]
     },
     "metadata": {
      "needs_background": "light"
     },
     "output_type": "display_data"
    },
    {
     "data": {
      "image/png": "[encoded data removed]",
      "text/plain": [
       "<Figure size 432x288 with 1 Axes>"
      ]
     },
     "metadata": {
      "needs_background": "light"
     },
     "output_type": "display_data"
    }
   ],
   "source": [
    "import math\n",
    "\n",
    "x = xtrain_scale #xtrain_scale\n",
    "y = y_train      #y_train+\n",
    "\n",
    "predictions = scaler_y.inverse_transform(model.predict(x))\n",
    "\n",
    "predicted_length = list()\n",
    "real_length = list()\n",
    "\n",
    "for val in predictions:\n",
    "    predicted_length.append(math.sqrt(val[0]**2 + val[1]**2 + val[2]**2))\n",
    "for val in y:\n",
    "    real_length.append(math.sqrt(val[0]**2 + val[1]**2 + val[2]**2))\n",
    "                                       \n",
    "for i in range(4):\n",
    "    if i == 3:\n",
    "        predicted_data = predicted_length\n",
    "        real_data = real_length\n",
    "    else:\n",
    "        predicted_data = [item[i] for item in predictions]\n",
    "        real_data = [item[i] for item in y]\n",
    "\n",
    "    min_value = min(min(predicted_data), min(real_data)) - 25\n",
    "    max_value = max(max(predicted_data), max(real_data)) + 25\n",
    "\n",
    "    plt.figure()\n",
    "    plt.scatter(predicted_data,real_data)\n",
    "    \n",
    "    if i == 0:\n",
    "        coord = 'x'\n",
    "    elif i == 1:\n",
    "        coord = 'y'\n",
    "    elif i == 2:\n",
    "        coord = 'z'\n",
    "    elif i == 3: \n",
    "        coord = 'length'\n",
    "    plt.ylabel('real '+coord)\n",
    "    plt.xlabel('predicted '+coord)\n",
    "    plt.xlim(min_value, max_value)\n",
    "    plt.ylim(min_value, max_value)\n",
    "    plt.gca().set_aspect('equal')\n",
    "    plt.plot([min_value,max_value],[min_value,max_value], color = 'r')\n",
    "    plt.plot([min_value-100,max_value-100],[min_value+100,max_value+100], color = 'y')   \n",
    "    plt.plot([min_value+100,max_value+100],[min_value-100,max_value-100], color = 'y')\n",
    "    plt.show()\n",
    "\n",
    "x = xtest_scale #xtrain_scale\n",
    "y = y_test      #y_train+\n",
    "\n",
    "predictions = scaler_y.inverse_transform(model.predict(x))\n",
    "\n",
    "predicted_length = list()\n",
    "real_length = list()\n",
    "\n",
    "for val in predictions:\n",
    "    predicted_length.append(math.sqrt(val[0]**2 + val[1]**2 + val[2]**2))\n",
    "for val in y:\n",
    "    real_length.append(math.sqrt(val[0]**2 + val[1]**2 + val[2]**2))\n",
    "                                       \n",
    "for i in range(4):\n",
    "    if i == 3:\n",
    "        predicted_data = predicted_length\n",
    "        real_data = real_length\n",
    "    else:\n",
    "        predicted_data = [item[i] for item in predictions]\n",
    "        real_data = [item[i] for item in y]\n",
    "\n",
    "    min_value = min(min(predicted_data), min(real_data)) - 25\n",
    "    max_value = max(max(predicted_data), max(real_data)) + 25\n",
    "\n",
    "    plt.figure()\n",
    "    plt.scatter(predicted_data,real_data)\n",
    "    \n",
    "    if i == 0:\n",
    "        coord = 'x'\n",
    "    elif i == 1:\n",
    "        coord = 'y'\n",
    "    elif i == 2:\n",
    "        coord = 'z'\n",
    "    elif i == 3: \n",
    "        coord = 'length'\n",
    "    plt.ylabel('real '+coord)\n",
    "    plt.xlabel('predicted '+coord)\n",
    "    plt.xlim(min_value, max_value)\n",
    "    plt.ylim(min_value, max_value)\n",
    "    plt.gca().set_aspect('equal')\n",
    "    plt.plot([min_value,max_value],[min_value,max_value], color = 'r')\n",
    "    plt.plot([min_value-100,max_value-100],[min_value+100,max_value+100], color = 'y')   \n",
    "    plt.plot([min_value+100,max_value+100],[min_value-100,max_value-100], color = 'y')\n",
    "    plt.show()"
   ]
  },
  {
   "cell_type": "code",
   "execution_count": 212,
   "metadata": {},
   "outputs": [
    {
     "name": "stdout",
     "output_type": "stream",
     "text": [
      "[[  90.70409   -96.766754  663.08813 ]\n",
      " [ 219.1811   -226.44179   616.89905 ]\n",
      " [-115.56946  -355.484     890.7244  ]]\n",
      "[[ -11.1158  -97.6618  558.5592]\n",
      " [ 103.8408 -198.8408  503.1393]\n",
      " [-141.8026 -243.1891  807.6094]]\n"
     ]
    }
   ],
   "source": [
    "print(predictions[11:14])\n",
    "print(y[11:14])"
   ]
  },
  {
   "cell_type": "markdown",
   "metadata": {},
   "source": [
    "### Eigene Metrik\n",
    "Als eigene Metrik wird hier die durchschnittliche euklidische Distanz der vorhergesagten und tatsächlichen Raumkoordinaten verwendet.\n",
    "=> Wesentliche Aussage über Qualität des Modells"
   ]
  },
  {
   "cell_type": "code",
   "execution_count": 23,
   "metadata": {},
   "outputs": [
    {
     "name": "stdout",
     "output_type": "stream",
     "text": [
      "Test:194.479,Anzahl Datensätze: 78\n",
      "Train:252.103 ,Anzahl Datensätze: 699\n",
      "              0           1           2\n",
      "0    239.806107 -329.367340  706.864563\n",
      "1    197.539932 -466.792419  748.436890\n",
      "2     75.578491  -28.918287  847.031738\n",
      "3    300.241516 -433.507782  722.041870\n",
      "4    -11.119235 -479.409302  821.870361\n",
      "..          ...         ...         ...\n",
      "694  248.236526 -431.159546  698.345154\n",
      "695   30.087521 -329.313019  687.580261\n",
      "696   87.412498 -376.361877  712.818848\n",
      "697  -72.575500 -473.951172  801.352722\n",
      "698 -151.327469 -548.311646  804.846741\n",
      "\n",
      "[699 rows x 3 columns]\n",
      "            0         1         2\n",
      "0    322.5231 -125.6965  540.5891\n",
      "1    325.0254 -357.6637  560.8280\n",
      "2     27.7385  301.1844  788.7793\n",
      "3    401.4859 -351.7288  526.0711\n",
      "4     -6.3124 -502.2671  944.3557\n",
      "..        ...       ...       ...\n",
      "694  380.7156 -324.7560  409.1995\n",
      "695  401.4233 -135.2877  690.5914\n",
      "696  120.3525 -130.4425  487.7848\n",
      "697  -34.2583 -389.8553  841.1046\n",
      "698 -164.5788 -487.1035  765.9582\n",
      "\n",
      "[699 rows x 3 columns]\n"
     ]
    }
   ],
   "source": [
    "import pandas as pd\n",
    "x = xtest_scale #xtrain_scale\n",
    "y = y_test      #y_train\n",
    "\n",
    "predictions = scaler_y.inverse_transform(model.predict(x))\n",
    "x = pd.DataFrame(predictions)\n",
    "y = pd.DataFrame(y)\n",
    "\n",
    "\n",
    "distance_pred_real = []\n",
    "for i in range(min(len(x),len(y))):\n",
    "    distance_pred_real.append(math.sqrt((x.iloc[i,0]-y.iloc[i,0])**2 + (x.iloc[i,1]-y.iloc[i,1])**2 + (x.iloc[i,2]-y.iloc[i,2])**2))\n",
    "\n",
    "print(f\"Test:{round(mean(distance_pred_real),3)},Anzahl Datensätze: {len(distance_pred_real)}\")\n",
    "\n",
    "x = xtrain_scale \n",
    "y = y_train      \n",
    "\n",
    "predictions = scaler_y.inverse_transform(model.predict(x))\n",
    "x = pd.DataFrame(predictions)\n",
    "y = pd.DataFrame(y)\n",
    "\n",
    "distance_pred_real = []\n",
    "for i in range(min(len(x),len(y))):\n",
    "    distance_pred_real.append(math.sqrt((x.iloc[i,0]-y.iloc[i,0])**2 + (x.iloc[i,1]-y.iloc[i,1])**2 + (x.iloc[i,2]-y.iloc[i,2])**2))\n",
    "\n",
    "print(f\"Train:{round(mean(distance_pred_real),3)} ,Anzahl Datensätze: {len(distance_pred_real)}\")\n",
    "\n",
    "print(x)\n",
    "print(y)"
   ]
  },
  {
   "cell_type": "markdown",
   "metadata": {},
   "source": [
    "## K-fache Kreuzvalidierung\n",
    "[Quelle](https://machinelearningmastery.com/deep-learning-models-for-multi-output-regression/)\n",
    "Realitätsnäher als einfache Teststrategie mit statischem Testdatensatz"
   ]
  },
  {
   "cell_type": "code",
   "execution_count": 12,
   "metadata": {},
   "outputs": [
    {
     "name": "stdout",
     "output_type": "stream",
     "text": [
      "----------------------------------------\n",
      "Test mse: 0.057\n",
      "Test mae: 0.184\n",
      "Test accuracy: 0.558\n",
      "----------------------------------------\n",
      "Test mse: 0.156\n",
      "Test mae: 0.303\n",
      "Test accuracy: 0.326\n",
      "----------------------------------------\n",
      "Test mse: 0.101\n",
      "Test mae: 0.256\n",
      "Test accuracy: 0.349\n",
      "----------------------------------------\n",
      "Test mse: 0.085\n",
      "Test mae: 0.227\n",
      "Test accuracy: 0.488\n",
      "----------------------------------------\n",
      "Test mse: 0.112\n",
      "Test mae: 0.252\n",
      "Test accuracy: 0.419\n",
      "----------------------------------------\n",
      "Test mse: 0.086\n",
      "Test mae: 0.22\n",
      "Test accuracy: 0.419\n",
      "----------------------------------------\n",
      "Test mse: 0.081\n",
      "Test mae: 0.22\n",
      "Test accuracy: 0.605\n",
      "----------------------------------------\n",
      "Test mse: 0.072\n",
      "Test mae: 0.218\n",
      "Test accuracy: 0.488\n",
      "----------------------------------------\n",
      "Test mse: 0.071\n",
      "Test mae: 0.21\n",
      "Test accuracy: 0.465\n",
      "----------------------------------------\n",
      "Test mse: 0.114\n",
      "Test mae: 0.277\n",
      "Test accuracy: 0.512\n",
      "----------------------------------------\n",
      "Test mse: 0.085\n",
      "Test mae: 0.229\n",
      "Test accuracy: 0.535\n",
      "----------------------------------------\n",
      "Test mse: 0.071\n",
      "Test mae: 0.207\n",
      "Test accuracy: 0.605\n",
      "----------------------------------------\n",
      "Test mse: 0.097\n",
      "Test mae: 0.262\n",
      "Test accuracy: 0.465\n",
      "----------------------------------------\n",
      "Test mse: 0.068\n",
      "Test mae: 0.206\n",
      "Test accuracy: 0.535\n",
      "----------------------------------------\n",
      "Test mse: 0.081\n",
      "Test mae: 0.222\n",
      "Test accuracy: 0.488\n",
      "----------------------------------------\n",
      "Test mse: 0.046\n",
      "Test mae: 0.163\n",
      "Test accuracy: 0.581\n",
      "----------------------------------------\n",
      "Test mse: 0.096\n",
      "Test mae: 0.247\n",
      "Test accuracy: 0.419\n",
      "----------------------------------------\n",
      "Test mse: 0.095\n",
      "Test mae: 0.237\n",
      "Test accuracy: 0.372\n",
      "----------------------------------------\n",
      "Test mse: 0.115\n",
      "Test mae: 0.271\n",
      "Test accuracy: 0.465\n",
      "----------------------------------------\n",
      "Test mse: 0.155\n",
      "Test mae: 0.317\n",
      "Test accuracy: 0.395\n",
      "=========================================\n",
      "mse: 0.09217242 (std: 0.027501425)\n",
      "mae: 0.23638356 (std: 0.036837716)\n",
      "accuracy: 0.47441858 (std: 0.079342894)\n"
     ]
    }
   ],
   "source": [
    "import os, sys, pandas as pd, numpy as np, tensorflow as tf\n",
    "from numpy import mean, std\n",
    "from sklearn.utils import shuffle\n",
    "from sklearn.model_selection import train_test_split\n",
    "from sklearn.preprocessing import MinMaxScaler\n",
    "from numpy.random import seed\n",
    "seed(1)\n",
    "tf.random.set_seed(1)\n",
    "from tensorflow import keras\n",
    "from tensorflow.python.keras.layers import Dense\n",
    "from tensorflow.keras import layers\n",
    "from tensorflow.python.keras.models import Sequential\n",
    "from tensorflow.python.keras.wrappers.scikit_learn import KerasRegressor\n",
    "from sklearn.metrics import mean_absolute_error\n",
    "from sklearn.metrics import mean_squared_error\n",
    "from sklearn.model_selection import RepeatedKFold\n",
    "\n",
    "LIMIT = 80\n",
    "\n",
    "X = np.empty([0,3*LIMIT])\n",
    "y = np.empty([0,3])\n",
    "\n",
    "for file in os.listdir('../DATA/5_filtered'):\n",
    "    if file.find(\"R\") != -1:\n",
    "        df = pd.read_csv('../DATA/5_filtered/'+file, sep = ';').iloc[:,[0,1,2]]\n",
    "        if len(df) >=LIMIT+20:\n",
    "            x_row = df.iloc[0:LIMIT].values.flatten()\n",
    "            y_row = df.iloc[-1].values.flatten()\n",
    "            X = np.vstack([X, x_row])\n",
    "            y = np.vstack([y, y_row])\n",
    "\n",
    "#k-fold cross-validation\n",
    "results = list()\n",
    "n_inputs, n_outputs = X.shape[1], y.shape[1]\n",
    "cv = RepeatedKFold(n_splits=10, n_repeats=2, random_state=1)\n",
    "\n",
    "for train_ix, test_ix in cv.split(X):\n",
    "    X_train, X_test = X[train_ix], X[test_ix]\n",
    "    y_train, y_test = y[train_ix], y[test_ix]\n",
    "    \n",
    "    #normalize values\n",
    "    scaler_x = MinMaxScaler()\n",
    "    scaler_y = MinMaxScaler()\n",
    "    xtrain_scale=scaler_x.fit_transform(X_train)\n",
    "    xtest_scale=scaler_x.fit_transform(X_test)\n",
    "    ytrain_scale=scaler_y.fit_transform(y_train)\n",
    "    ytest_scale=scaler_y.fit_transform(y_test)\n",
    "    \n",
    "    #define model\n",
    "    inputs = keras.Input(shape=(3*LIMIT,))\n",
    "    x = layers.Dense(3*LIMIT, input_dim=3*LIMIT, activation=\"relu\")(inputs)\n",
    "    x = layers.Dense(3*LIMIT*(3*LIMIT+3), activation=\"relu\")(x)\n",
    "    outputs = layers.Dense(3, activation=\"linear\")(x)\n",
    "    model = keras.Model(inputs=inputs, outputs=outputs, name=\"hand_prediction\")\n",
    "    model.compile(loss='mse', optimizer='adam', metrics=['mse','mae','accuracy'])\n",
    "    \n",
    "    #fit model\n",
    "    history = model.fit(xtrain_scale,ytrain_scale, epochs=200, verbose=0)\n",
    "    predictions = model.predict(xtest_scale)\n",
    "    \n",
    "    #evaluate mode on test set\n",
    "    score = model.evaluate(xtest_scale, ytest_scale, verbose=0)\n",
    "    results.append(score)\n",
    "    print('----------------------------------------')\n",
    "    print('Test mse:', round(score[1],3))\n",
    "    print('Test mae:', round(score[2],3))\n",
    "    print('Test accuracy:', round(score[3],3))\n",
    "    \n",
    "print('=========================================')\n",
    "\n",
    "mse = [item[1] for item in results]\n",
    "mae = [item[2] for item in results]\n",
    "accuracy = [item[3] for item in results]\n",
    "print(\"mse: \"+str(mean(mse))+\" (std: \"+str(std(mse))+\")\")\n",
    "print(\"mae: \"+str(mean(mae))+\" (std: \"+str(std(mae))+\")\")\n",
    "print(\"accuracy: \"+str(mean(accuracy))+\" (std: \"+str(std(accuracy))+\")\")"
   ]
  }
 ],
 "metadata": {
  "kernelspec": {
   "display_name": "Python 3",
   "language": "python",
   "name": "python3"
  },
  "language_info": {
   "codemirror_mode": {
    "name": "ipython",
    "version": 3
   },
   "file_extension": ".py",
   "mimetype": "text/x-python",
   "name": "python",
   "nbconvert_exporter": "python",
   "pygments_lexer": "ipython3",
   "version": "3.7.8"
  }
 },
 "nbformat": 4,
 "nbformat_minor": 4
}
